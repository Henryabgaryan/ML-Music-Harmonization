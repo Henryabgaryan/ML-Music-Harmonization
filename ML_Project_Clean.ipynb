{
  "nbformat": 4,
  "nbformat_minor": 0,
  "metadata": {
    "colab": {
      "name": "ML_Project_Clean.ipynb",
      "provenance": [],
      "collapsed_sections": [],
      "toc_visible": true
    },
    "kernelspec": {
      "name": "python3",
      "display_name": "Python 3"
    }
  },
  "cells": [
    {
      "cell_type": "markdown",
      "metadata": {
        "id": "hnbEm401ffqn"
      },
      "source": [
        "\n",
        "<center>\n",
        "        <h1>CS 251/340 Machine Learning</h1>\n",
        "        <h2>AUA, Spring 2021</h2>\n",
        "        <h1>Here We introduce step by step implementatiion of the Pseudocode presented on the Google Docs By Aram Khanlari<h1>\n",
        "\n",
        "</center>"
      ]
    },
    {
      "cell_type": "markdown",
      "metadata": {
        "id": "GeRDK60MgSZ-"
      },
      "source": [
        "**Importing neccessery libraries**\n"
      ]
    },
    {
      "cell_type": "code",
      "metadata": {
        "id": "_vi0Bu0sfY14",
        "colab": {
          "base_uri": "https://localhost:8080/"
        },
        "outputId": "6eb8b655-7a64-4fe7-e1f3-3ae398458d42"
      },
      "source": [
        "from music21 import *\n",
        "\n",
        "#uploading file from computer\n",
        "import os\n",
        "#Array Processing\n",
        "import numpy as np\n",
        "import random\n",
        "\n",
        "!pip install mingus\n",
        "import mingus.core.notes as notes\n",
        "\n",
        "from collections import Counter\n",
        "\n",
        "#library for visualiation\n",
        "import matplotlib.pyplot as plt\n",
        "\n",
        "from sklearn.model_selection import train_test_split\n",
        "\n",
        "#for Neural Networks\n",
        "from keras.layers import *\n",
        "from keras.models import *\n",
        "from keras.callbacks import *\n",
        "import keras.backend as K\n",
        "\n",
        "from keras.models import load_model"
      ],
      "execution_count": null,
      "outputs": [
        {
          "output_type": "stream",
          "text": [
            "Collecting mingus\n",
            "\u001b[?25l  Downloading https://files.pythonhosted.org/packages/38/10/1203d8059ade882b5951cf52afaf594d7a6eda95b0cd7799916e9734b451/mingus-0.6.1-py2.py3-none-any.whl (140kB)\n",
            "\r\u001b[K     |██▍                             | 10kB 14.2MB/s eta 0:00:01\r\u001b[K     |████▊                           | 20kB 19.9MB/s eta 0:00:01\r\u001b[K     |███████                         | 30kB 10.6MB/s eta 0:00:01\r\u001b[K     |█████████▍                      | 40kB 8.5MB/s eta 0:00:01\r\u001b[K     |███████████▊                    | 51kB 5.4MB/s eta 0:00:01\r\u001b[K     |██████████████                  | 61kB 6.3MB/s eta 0:00:01\r\u001b[K     |████████████████▍               | 71kB 6.3MB/s eta 0:00:01\r\u001b[K     |██████████████████▊             | 81kB 6.2MB/s eta 0:00:01\r\u001b[K     |█████████████████████           | 92kB 6.5MB/s eta 0:00:01\r\u001b[K     |███████████████████████▍        | 102kB 6.8MB/s eta 0:00:01\r\u001b[K     |█████████████████████████▊      | 112kB 6.8MB/s eta 0:00:01\r\u001b[K     |████████████████████████████    | 122kB 6.8MB/s eta 0:00:01\r\u001b[K     |██████████████████████████████▍ | 133kB 6.8MB/s eta 0:00:01\r\u001b[K     |████████████████████████████████| 143kB 6.8MB/s \n",
            "\u001b[?25hRequirement already satisfied: six in /usr/local/lib/python3.7/dist-packages (from mingus) (1.15.0)\n",
            "Installing collected packages: mingus\n",
            "Successfully installed mingus-0.6.1\n"
          ],
          "name": "stdout"
        }
      ]
    },
    {
      "cell_type": "markdown",
      "metadata": {
        "id": "7axcDe9NhHMz"
      },
      "source": [
        "# **Function to read MIDI files**"
      ]
    },
    {
      "cell_type": "code",
      "metadata": {
        "id": "ym1zzuEDhM-Z"
      },
      "source": [
        "\n",
        "chordes = []\n",
        "\n",
        "\n",
        "#Returns the array of notes and chords present in the musical file.\n",
        "def read_midi(file):\n",
        "    \n",
        "    print(\"Loading the music file: \",file)\n",
        "    \n",
        "    notes=[]\n",
        "    notes_to_parse = None\n",
        "    #parsing a midi file\n",
        "    midi = converter.parse(file)\n",
        "  \n",
        "    #grouping based on different instruments\n",
        "    s2 = instrument.partitionByInstrument(midi)\n",
        "    #Looping over all the instruments\n",
        "    for part in s2.parts:\n",
        "    \n",
        "        #select elements of only piano\n",
        "        #if 'Piano' in str(part): \n",
        "        \n",
        "            notes_to_parse = part.recurse() \n",
        "      \n",
        "            #finding whether a particular element is note or a chord\n",
        "            for element in notes_to_parse:\n",
        "                \n",
        "                #note\n",
        "                if isinstance(element, note.Note):\n",
        "                    b = str(element.pitch)\n",
        "                    notes.append(str(element.pitch))\n",
        "                    #print(b)\n",
        "                \n",
        "                #chord\n",
        "                elif isinstance(element, chord.Chord):\n",
        "                    a = '.'.join(str(n) for n in element.pitchClasses)\n",
        "                    #notes.append(a)\n",
        "                   # print(a)\n",
        "                    chordes.append(a)\n",
        "                    #a =  notes.append('.'.join(str(element.pitch)))\n",
        "                    #print(a)\n",
        "\n",
        "    return  np.array(notes)\n",
        "#np.array(chordes)"
      ],
      "execution_count": null,
      "outputs": []
    },
    {
      "cell_type": "code",
      "metadata": {
        "id": "A7eeMjT4FY7_",
        "colab": {
          "base_uri": "https://localhost:8080/"
        },
        "outputId": "5e8676f9-433d-490f-b16d-f8cf7796b465"
      },
      "source": [
        "#specify the path\n",
        "path='/bin/a/'\n",
        "\n",
        "\n",
        "#read all the filenames\n",
        "files=[i for i in os.listdir(path) if i.endswith(\".mid\")]\n",
        "\n",
        "#reading each midi file\n",
        "notes_array = np.array([read_midi(path+i) for i in files])\n",
        "print(len(notes_array[0]))"
      ],
      "execution_count": null,
      "outputs": [
        {
          "output_type": "stream",
          "text": [
            "Loading the music file:  /bin/a/Project_data_final.mid\n",
            "937\n"
          ],
          "name": "stdout"
        }
      ]
    },
    {
      "cell_type": "markdown",
      "metadata": {
        "id": "HZN7DN8RjPf6"
      },
      "source": [
        "# **Function to convert list of notes/chordes back to MIDI**"
      ]
    },
    {
      "cell_type": "code",
      "metadata": {
        "id": "CkW7h23Gjf-b"
      },
      "source": [
        "def convert_to_midi(prediction_output):\n",
        "   \n",
        "    offset = 0\n",
        "    output_notes = []\n",
        "\n",
        "    # create note and chord objects based on the values generated by the model\n",
        "    for pattern in prediction_output:\n",
        "        \n",
        "        # pattern is a chord\n",
        "        if ('.' in pattern) or pattern.isdigit():\n",
        "            notes_in_chord = pattern.split('.')\n",
        "            notes = []\n",
        "            for current_note in notes_in_chord:\n",
        "                \n",
        "                cn=int(current_note)\n",
        "                new_note = note.Note(cn)\n",
        "                new_note.storedInstrument = instrument.Piano()\n",
        "                notes.append(new_note)\n",
        "                \n",
        "            new_chord = chord.Chord(notes)\n",
        "            new_chord.offset = offset\n",
        "            output_notes.append(new_chord)\n",
        "            \n",
        "        # pattern is a note\n",
        "        else:\n",
        "            \n",
        "            new_note = note.Note(pattern)\n",
        "            new_note.offset = offset\n",
        "            new_note.storedInstrument = instrument.Piano()\n",
        "            output_notes.append(new_note)\n",
        "\n",
        "        # increase offset each iteration so that notes do not stack\n",
        "        offset += 1\n",
        "    midi_stream = stream.Stream(output_notes)\n",
        "    midi_stream.write('midi', fp='predicted_music.mid')\n",
        "    return midi_stream\n",
        "    "
      ],
      "execution_count": null,
      "outputs": []
    },
    {
      "cell_type": "markdown",
      "metadata": {
        "id": "2upIe3HPhT_O"
      },
      "source": [
        "# **Reading MIDI files from the uploaded folder**"
      ]
    },
    {
      "cell_type": "code",
      "metadata": {
        "id": "HKs40dJehdrv",
        "colab": {
          "base_uri": "https://localhost:8080/"
        },
        "outputId": "b9eeb578-fd51-415b-e535-c7dfde336423"
      },
      "source": [
        "\n",
        "#specify the path\n",
        "path='/bin/m/'\n",
        "\n",
        "\n",
        "#read all the filenames\n",
        "files=[i for i in os.listdir(path) if i.endswith(\".mid\")]\n",
        "\n",
        "#reading each midi file\n",
        "notes_array = np.array([read_midi(path+i)[1] for i in files])\n"
      ],
      "execution_count": null,
      "outputs": [
        {
          "output_type": "stream",
          "text": [
            "Loading the music file:  /bin/m/Project_data_final.mid\n"
          ],
          "name": "stdout"
        }
      ]
    },
    {
      "cell_type": "code",
      "metadata": {
        "id": "w8ehDIR75Af_"
      },
      "source": [
        "def remove_double_single_chordes(chordes):\n",
        "  new_list = chordes.copy()\n",
        "  for i in new_list:\n",
        "    if i.count('.') == 1:\n",
        "      chordes.remove(i)\n",
        "    elif len(i) <= 2:\n",
        "      chordes.remove(i)\n",
        "  return chordes\n",
        "\n"
      ],
      "execution_count": null,
      "outputs": []
    },
    {
      "cell_type": "markdown",
      "metadata": {
        "id": "FofgyHmQyXSm"
      },
      "source": [
        "Coverting 2D Notes/Chordes array into 1D"
      ]
    },
    {
      "cell_type": "markdown",
      "metadata": {
        "id": "sDHKIrXVizuY"
      },
      "source": [
        "# **Layer 1: Random**\n",
        "# The melody A = {x1, x2, …, xn} is harmonized with random chords C = {c1, c2, …, cn} where chords are chosen with no logic or distribution."
      ]
    },
    {
      "cell_type": "markdown",
      "metadata": {
        "id": "WWHqPnoYiXad"
      },
      "source": [
        "Function to Randomly select chordes from the list and generate music out of it"
      ]
    },
    {
      "cell_type": "code",
      "metadata": {
        "id": "uwkexwK_ifUj"
      },
      "source": [
        "def random_chords_to_music(chords_given, melody):\n",
        "    \n",
        "  new_music=[]\n",
        "  chordes = []\n",
        "  \n",
        "  for i in range(len(melody[0])): \n",
        "    j = random.randint(0, len(chords_given))\n",
        "    new_chord = chords_given[j] + \".\" + str(notes.note_to_int(str(melody[0][i])))\n",
        "    new_music.append(new_chord)\n",
        "   \n",
        "    print(new_music)\n",
        "  convert_to_midi(new_music)\n",
        "    "
      ],
      "execution_count": null,
      "outputs": []
    },
    {
      "cell_type": "code",
      "metadata": {
        "colab": {
          "base_uri": "https://localhost:8080/",
          "height": 340
        },
        "id": "2RJqV5tYi-WR",
        "outputId": "a558e546-0b7a-4d30-8346-13e6413fec8f"
      },
      "source": [
        "a =  remove_double_single_chordes(chordes)\n",
        "# random_chords_to_music(a, notes_array)\n",
        "print(notes_array[0])"
      ],
      "execution_count": null,
      "outputs": [
        {
          "output_type": "error",
          "ename": "NoteFormatError",
          "evalue": "ignored",
          "traceback": [
            "\u001b[0;31m---------------------------------------------------------------------------\u001b[0m",
            "\u001b[0;31mNoteFormatError\u001b[0m                           Traceback (most recent call last)",
            "\u001b[0;32m<ipython-input-33-206f787f68f0>\u001b[0m in \u001b[0;36m<module>\u001b[0;34m()\u001b[0m\n\u001b[1;32m      1\u001b[0m \u001b[0ma\u001b[0m \u001b[0;34m=\u001b[0m  \u001b[0mremove_double_single_chordes\u001b[0m\u001b[0;34m(\u001b[0m\u001b[0mchordes\u001b[0m\u001b[0;34m)\u001b[0m\u001b[0;34m\u001b[0m\u001b[0;34m\u001b[0m\u001b[0m\n\u001b[0;32m----> 2\u001b[0;31m \u001b[0mrandom_chords_to_music\u001b[0m\u001b[0;34m(\u001b[0m\u001b[0ma\u001b[0m\u001b[0;34m,\u001b[0m \u001b[0mnotes_array\u001b[0m\u001b[0;34m)\u001b[0m\u001b[0;34m\u001b[0m\u001b[0;34m\u001b[0m\u001b[0m\n\u001b[0m\u001b[1;32m      3\u001b[0m \u001b[0mprint\u001b[0m\u001b[0;34m(\u001b[0m\u001b[0mnotes_array\u001b[0m\u001b[0;34m[\u001b[0m\u001b[0;36m0\u001b[0m\u001b[0;34m]\u001b[0m\u001b[0;34m)\u001b[0m\u001b[0;34m\u001b[0m\u001b[0;34m\u001b[0m\u001b[0m\n",
            "\u001b[0;32m<ipython-input-24-4675d0bf56a6>\u001b[0m in \u001b[0;36mrandom_chords_to_music\u001b[0;34m(chords_given, melody)\u001b[0m\n\u001b[1;32m      6\u001b[0m   \u001b[0;32mfor\u001b[0m \u001b[0mi\u001b[0m \u001b[0;32min\u001b[0m \u001b[0mrange\u001b[0m\u001b[0;34m(\u001b[0m\u001b[0mlen\u001b[0m\u001b[0;34m(\u001b[0m\u001b[0mmelody\u001b[0m\u001b[0;34m[\u001b[0m\u001b[0;36m0\u001b[0m\u001b[0;34m]\u001b[0m\u001b[0;34m)\u001b[0m\u001b[0;34m)\u001b[0m\u001b[0;34m:\u001b[0m\u001b[0;34m\u001b[0m\u001b[0;34m\u001b[0m\u001b[0m\n\u001b[1;32m      7\u001b[0m     \u001b[0mj\u001b[0m \u001b[0;34m=\u001b[0m \u001b[0mrandom\u001b[0m\u001b[0;34m.\u001b[0m\u001b[0mrandint\u001b[0m\u001b[0;34m(\u001b[0m\u001b[0;36m0\u001b[0m\u001b[0;34m,\u001b[0m \u001b[0mlen\u001b[0m\u001b[0;34m(\u001b[0m\u001b[0mchords_given\u001b[0m\u001b[0;34m)\u001b[0m\u001b[0;34m)\u001b[0m\u001b[0;34m\u001b[0m\u001b[0;34m\u001b[0m\u001b[0m\n\u001b[0;32m----> 8\u001b[0;31m     \u001b[0mnew_chord\u001b[0m \u001b[0;34m=\u001b[0m \u001b[0mchords_given\u001b[0m\u001b[0;34m[\u001b[0m\u001b[0mj\u001b[0m\u001b[0;34m]\u001b[0m \u001b[0;34m+\u001b[0m \u001b[0;34m\".\"\u001b[0m \u001b[0;34m+\u001b[0m \u001b[0mstr\u001b[0m\u001b[0;34m(\u001b[0m\u001b[0mnotes\u001b[0m\u001b[0;34m.\u001b[0m\u001b[0mnote_to_int\u001b[0m\u001b[0;34m(\u001b[0m\u001b[0mstr\u001b[0m\u001b[0;34m(\u001b[0m\u001b[0mmelody\u001b[0m\u001b[0;34m[\u001b[0m\u001b[0;36m0\u001b[0m\u001b[0;34m]\u001b[0m\u001b[0;34m[\u001b[0m\u001b[0mi\u001b[0m\u001b[0;34m]\u001b[0m\u001b[0;34m)\u001b[0m\u001b[0;34m)\u001b[0m\u001b[0;34m)\u001b[0m\u001b[0;34m\u001b[0m\u001b[0;34m\u001b[0m\u001b[0m\n\u001b[0m\u001b[1;32m      9\u001b[0m     \u001b[0mnew_music\u001b[0m\u001b[0;34m.\u001b[0m\u001b[0mappend\u001b[0m\u001b[0;34m(\u001b[0m\u001b[0mnew_chord\u001b[0m\u001b[0;34m)\u001b[0m\u001b[0;34m\u001b[0m\u001b[0;34m\u001b[0m\u001b[0m\n\u001b[1;32m     10\u001b[0m \u001b[0;34m\u001b[0m\u001b[0m\n",
            "\u001b[0;32m/usr/local/lib/python3.7/dist-packages/mingus/core/notes.py\u001b[0m in \u001b[0;36mnote_to_int\u001b[0;34m(note)\u001b[0m\n\u001b[1;32m     86\u001b[0m         \u001b[0mval\u001b[0m \u001b[0;34m=\u001b[0m \u001b[0m_note_dict\u001b[0m\u001b[0;34m[\u001b[0m\u001b[0mnote\u001b[0m\u001b[0;34m[\u001b[0m\u001b[0;36m0\u001b[0m\u001b[0;34m]\u001b[0m\u001b[0;34m]\u001b[0m\u001b[0;34m\u001b[0m\u001b[0;34m\u001b[0m\u001b[0m\n\u001b[1;32m     87\u001b[0m     \u001b[0;32melse\u001b[0m\u001b[0;34m:\u001b[0m\u001b[0;34m\u001b[0m\u001b[0;34m\u001b[0m\u001b[0m\n\u001b[0;32m---> 88\u001b[0;31m         \u001b[0;32mraise\u001b[0m \u001b[0mNoteFormatError\u001b[0m\u001b[0;34m(\u001b[0m\u001b[0;34m\"Unknown note format '%s'\"\u001b[0m \u001b[0;34m%\u001b[0m \u001b[0mnote\u001b[0m\u001b[0;34m)\u001b[0m\u001b[0;34m\u001b[0m\u001b[0;34m\u001b[0m\u001b[0m\n\u001b[0m\u001b[1;32m     89\u001b[0m \u001b[0;34m\u001b[0m\u001b[0m\n\u001b[1;32m     90\u001b[0m     \u001b[0;31m# Check for '#' and 'b' postfixes\u001b[0m\u001b[0;34m\u001b[0m\u001b[0;34m\u001b[0m\u001b[0;34m\u001b[0m\u001b[0m\n",
            "\u001b[0;31mNoteFormatError\u001b[0m: Unknown note format 'C4'"
          ]
        }
      ]
    },
    {
      "cell_type": "markdown",
      "metadata": {
        "id": "iZvpDbvbD97D"
      },
      "source": [
        "#**Layer 2a: Pseudorandom**\n",
        "#The melody A = {x1, x2, …, xn} is harmonized with chords C = {c1, c2, …, cn} where a chord ci is chosen such that it contains the note xi. The decision for the chords is still random, however, the decision pool is narrowed down from all chords to those which contain the note\n"
      ]
    },
    {
      "cell_type": "code",
      "metadata": {
        "id": "-v90n-oEEM-e"
      },
      "source": [
        "def pseudorandom_chords_to_music(notes_to_choose, note):\n",
        "  new_music=[]\n",
        "  for i in range(len(notes_to_choose)): \n",
        "    i = random.randint(0, len(notes_to_choose)-1)\n",
        "    if note in notes_to_choose[i]:\n",
        "      new_music.append(notes_to_choose[i])\n",
        "  \n",
        "  convert_to_midi(new_music)\n",
        "    "
      ],
      "execution_count": null,
      "outputs": []
    },
    {
      "cell_type": "code",
      "metadata": {
        "id": "gMJw1O3mEQ3l"
      },
      "source": [
        "pseudorandom_chords_to_music(chordes,\"10\")"
      ],
      "execution_count": null,
      "outputs": []
    },
    {
      "cell_type": "markdown",
      "metadata": {
        "id": "lmNyw34aFKrW"
      },
      "source": [
        "# **Layer 2b: Pseudorandom Smooth**\n",
        "The melody A = {x1, x2, …, xn} is harmonized with chords C = {c1, c2, …, cn} where a chord ci is chosen such that it contains the note xi. The decision pool is narrowed down even further to those chords which minimize the function \n",
        "\n",
        "F(ci-1, ci) = min(|ci-11-ci1|, 12-|ci-11-ci1|) + min(|ci-12-ci2|, 12-|ci-12-ci2|) + min(|ci-13-ci3|,12-|ci-13-ci3|),  \n",
        "\n",
        "where cij is the j-th note of the three-note i chord. In simple words, this function measures and adds all the distances between notes of two chords. The smaller the distance is, the smoother, “lazier” the harmony would move. For example: F([do, mi, sol],[fa, la, do]) = min(|do-fa|, 12-|do-fa|) + min(|mi-la|, 12-|mi-la|) + min(|sol-do|,12-|sol-do|). Do - fa is the distance between the notes in chromatic (halfstep, կիսատոն) counts. For example for do - fa it is -5 (do, do#, re, re#, mi, fa) conversely, fa - do is 5. Thus F([do, mi, sol],[fa, la, do]) =min(5,7) + min(5,7) + min(5,7) = 15. Another example is F([do, mi, sol],[do, fa, la]) = min(|do-do|, 12-|do-do|) + min(|mi-fa|, 12-|mi-fa|) + min(|sol-la|,12-|sol-la|) = min(0,12) + min(1,11) + min(2,10) = 3.\n"
      ]
    }
  ]
}