{
  "nbformat": 4,
  "nbformat_minor": 0,
  "metadata": {
    "colab": {
      "name": "NN_and_Logistic_Music_Generation.ipynb",
      "provenance": [],
      "collapsed_sections": []
    },
    "kernelspec": {
      "name": "python3",
      "display_name": "Python 3"
    },
    "language_info": {
      "name": "python"
    }
  },
  "cells": [
    {
      "cell_type": "markdown",
      "metadata": {
        "id": "IdEdWK9ffIaA"
      },
      "source": [
        "\n",
        "<center>\n",
        "        <h1>CS 251/340 Machine Learning</h1>\n",
        "        <h2>AUA, Spring 2021</h2>\n",
        "        <h1>Using PyTorch to generate music<h1>\n",
        "\n",
        "</center>"
      ]
    },
    {
      "cell_type": "code",
      "metadata": {
        "colab": {
          "base_uri": "https://localhost:8080/"
        },
        "id": "jAkbfDQofHO_",
        "cellView": "form",
        "outputId": "dbfb797e-b595-4a0d-c1ed-5ed7098d22a2"
      },
      "source": [
        "#@title  { form-width: \"1px\" }\n",
        "from music21 import *\n",
        "\n",
        "#uploading file from computer\n",
        "import os\n",
        "#Array Processing\n",
        "import numpy as np\n",
        "import random\n",
        "\n",
        "!pip install mingus\n",
        "import mingus.core.notes as mingus_note\n",
        "\n",
        "from collections import Counter\n",
        "\n",
        "#library for visualiation\n",
        "import matplotlib.pyplot as plt\n",
        "\n",
        "from sklearn.model_selection import train_test_split\n",
        "\n",
        "#for Neural Networks\n",
        "from keras.layers import *\n",
        "from keras.models import *\n",
        "from keras.callbacks import *\n",
        "import keras.backend as K\n",
        "\n",
        "from keras.models import load_model\n",
        "\n",
        "#for playing midi\n",
        "from IPython.display import Audio\n",
        "import tqdm"
      ],
      "execution_count": null,
      "outputs": [
        {
          "output_type": "stream",
          "text": [
            "Collecting mingus\n",
            "\u001b[?25l  Downloading https://files.pythonhosted.org/packages/38/10/1203d8059ade882b5951cf52afaf594d7a6eda95b0cd7799916e9734b451/mingus-0.6.1-py2.py3-none-any.whl (140kB)\n",
            "\r\u001b[K     |██▍                             | 10kB 13.7MB/s eta 0:00:01\r\u001b[K     |████▊                           | 20kB 19.9MB/s eta 0:00:01\r\u001b[K     |███████                         | 30kB 13.5MB/s eta 0:00:01\r\u001b[K     |█████████▍                      | 40kB 10.6MB/s eta 0:00:01\r\u001b[K     |███████████▊                    | 51kB 7.0MB/s eta 0:00:01\r\u001b[K     |██████████████                  | 61kB 6.4MB/s eta 0:00:01\r\u001b[K     |████████████████▍               | 71kB 7.2MB/s eta 0:00:01\r\u001b[K     |██████████████████▊             | 81kB 7.3MB/s eta 0:00:01\r\u001b[K     |█████████████████████           | 92kB 8.0MB/s eta 0:00:01\r\u001b[K     |███████████████████████▍        | 102kB 6.7MB/s eta 0:00:01\r\u001b[K     |█████████████████████████▊      | 112kB 6.7MB/s eta 0:00:01\r\u001b[K     |████████████████████████████    | 122kB 6.7MB/s eta 0:00:01\r\u001b[K     |██████████████████████████████▍ | 133kB 6.7MB/s eta 0:00:01\r\u001b[K     |████████████████████████████████| 143kB 6.7MB/s \n",
            "\u001b[?25hRequirement already satisfied: six in /usr/local/lib/python3.7/dist-packages (from mingus) (1.15.0)\n",
            "Installing collected packages: mingus\n",
            "Successfully installed mingus-0.6.1\n"
          ],
          "name": "stdout"
        }
      ]
    },
    {
      "cell_type": "markdown",
      "metadata": {
        "id": "k4Ves17MhLw_"
      },
      "source": [
        "# Reading MIDI file"
      ]
    },
    {
      "cell_type": "code",
      "metadata": {
        "id": "CRzDq2VlhOby"
      },
      "source": [
        "#@title  { form-width: \"1px\" }\n",
        "\n",
        "#Returns the array of notes and chords present in the musical file.\n",
        "def read_midi(file):\n",
        "\n",
        "    print(\"Loading the music file: \",file)\n",
        "\n",
        "    chordes = []\n",
        "    notes=[]\n",
        "    notes_to_parse = None\n",
        "    #parsing a midi file\n",
        "    midi = converter.parse(file)\n",
        "  \n",
        "    #grouping based on different instruments\n",
        "    s2 = instrument.partitionByInstrument(midi)\n",
        "    #Looping over all the instruments\n",
        "    for part in s2.parts:\n",
        "    \n",
        "        #select elements of only piano\n",
        "        #if 'Piano' in str(part): \n",
        "        \n",
        "            notes_to_parse = part.recurse() \n",
        "      \n",
        "            #finding whether a particular element is note or a chord\n",
        "            for element in notes_to_parse:\n",
        "                \n",
        "                # #note\n",
        "                # if isinstance(element, note.Note):\n",
        "                #     notes.append(mingus_note.note_to_int(str(element.pitch)[0]))\n",
        "                    \n",
        "\n",
        "                #chord\n",
        "                if isinstance(element, chord.Chord):\n",
        "                    a = '.'.join(str(n) for n in element.pitches) #changed element.pitchClasses                    notes.append(max([n.pitch.midi for n in element]))\n",
        "                    notes.append(max([n.pitch.midi for n in element])%12)\n",
        "                    chordes.append(a)\n",
        "                  \n",
        "    print(chordes)\n",
        "    return  np.array([notes,chordes])\n",
        "#np.array(chordes)"
      ],
      "execution_count": null,
      "outputs": []
    },
    {
      "cell_type": "markdown",
      "metadata": {
        "id": "ecUUclcJhb1I"
      },
      "source": [
        "# **Function to convert list of notes/chordes back to MIDI**"
      ]
    },
    {
      "cell_type": "code",
      "metadata": {
        "id": "N7FLuQgzhcOp"
      },
      "source": [
        "#@title  { form-width: \"1px\" }\n",
        "\n",
        "def convert_to_midi(prediction_output,file_name):\n",
        "   \n",
        "    offset = 0\n",
        "    output_notes = []\n",
        "\n",
        "    # create note and chord objects based on the values generated by the model\n",
        "    for pattern in prediction_output:\n",
        "        \n",
        "        # pattern is a chord\n",
        "        if ('.' in pattern) or pattern.isdigit():\n",
        "            notes_in_chord = pattern.split('.')\n",
        "            notes = []\n",
        "            for current_note in notes_in_chord:\n",
        "                \n",
        "                # cn=int(current_note)\n",
        "                cn=current_note\n",
        "                new_note = note.Note(cn)\n",
        "                new_note.storedInstrument = instrument.Piano()\n",
        "                notes.append(new_note)\n",
        "                \n",
        "            new_chord = chord.Chord(notes)\n",
        "            new_chord.offset = offset\n",
        "            output_notes.append(new_chord)\n",
        "            \n",
        "        # pattern is a note\n",
        "        else:\n",
        "            \n",
        "            new_note = note.Note(pattern)\n",
        "            new_note.offset = offset\n",
        "            new_note.storedInstrument = instrument.Piano()\n",
        "            output_notes.append(new_note)\n",
        "\n",
        "        # increase offset each iteration so that notes do not stack\n",
        "        offset += 1\n",
        "    midi_stream = stream.Stream(output_notes)\n",
        "    midi_stream.write('midi', fp=file_name)\n",
        "    return midi_stream\n",
        "    "
      ],
      "execution_count": null,
      "outputs": []
    },
    {
      "cell_type": "markdown",
      "metadata": {
        "id": "dYEx9xAkhroj"
      },
      "source": [
        "# **Reading MIDI files from the uploaded folder**"
      ]
    },
    {
      "cell_type": "code",
      "metadata": {
        "colab": {
          "base_uri": "https://localhost:8080/"
        },
        "id": "Yi6RUnI0hsWm",
        "outputId": "c59d8245-865d-461a-82d4-f26f2a010370"
      },
      "source": [
        "#@title  { form-width: \"1px\" }\n",
        "\n",
        "\n",
        "#specify the path\n",
        "path2='/bin/data/'\n",
        "\n",
        "\n",
        "#read the melody file\n",
        "melody_file = [i for i in os.listdir(path2) if i.endswith(\".mid\")]\n",
        "melody_notes_array = [read_midi(path2+i) for i in melody_file]\n",
        "\n",
        "\n",
        "#print(notes_array1)\n",
        "print(melody_notes_array)\n",
        "\n",
        "for i in melody_notes_array:\n",
        "  print(i)"
      ],
      "execution_count": null,
      "outputs": [
        {
          "output_type": "stream",
          "text": [
            "Loading the music file:  /bin/data/Project_data_final.mid\n",
            "['C3.E4.G4.C5', 'E3.E4.G4.B4', 'G3.D4.G4.B4', 'D3.D4.F4.A4', 'F3.C4.F4.A4', 'C3.C4.E4.G4', 'E3.B3.E4.G4', 'E3.B3.E4.G4', 'E3.B3.E4.G4', 'C3.C4.E4.G4', 'A2.C4.E4.A4', 'F2.C4.F4.A4', 'C3.C4.E4.G4', 'C3.C4.E4.G4', 'G2.B3.D4.G4', 'C3.C4.E4.G4', 'C3.C4.E4.G4', 'F3.C4.F4.A4', 'D3.D4.F4.A4', 'G3.D4.G4.B4', 'C3.E4.G4.C5', 'F3.F4.A4.C5', 'F3.F4.A4.C5', 'D3.F4.A4.D5', 'D3.F4.A4.D5', 'G3.G4.B4.D5', 'C3.G4.C5.E5', 'E3.G4.B4.E5', 'G3.G4.B4.D5', 'C3.G4.C5.E5', 'C4.E4.G4', 'G3.B3.D4.G4', 'E3.B3.E4.G4', 'A3.C4.E4.A4', 'F3.C4.F4.A4', 'D3.D4.F4.A4', 'G3.D4.G4.B4', 'G3.D4.G4.B4', 'C4.E4.G4.C5', 'C4.E4.G4.C5', 'G3.D4.G4.B4', 'E3.E4.G4.B4', 'A3.E4.A4.C5', 'D3.F4.A4.D5', 'G3.G4.B4.D5', 'C4.G4.C5.E5', 'F3.A4.C5.F5', 'A3.A4.C5.E5', 'A3.A4.C5.E5', 'F3.A4.C5.F5', 'D3.A4.D5.F5', 'A3.A4.C5.E5', 'A3.A4.C5.E5', 'F3.A4.C5.F5', 'C4.G4.C5.E5', 'G3.G4.B4.D5', 'E3.G4.B4.E5', 'C3.G4.C5.E5', 'G3.G4.B4.D5', 'C3.G4.C5.E5', 'C3.G3.C4.E4', 'G3.B3.D4', 'E4.B3.G3.E3', 'C3.G3.C4.E4', 'A2.A3.C4.E4', 'A3.C4.E4', 'F3.A3.C4.F4', 'C3.G3.C4.E4', 'C3.G3.C4.E4', 'C3.G3.C4.E4', 'G3.B3.D4', 'E3.G3.B3.E4', 'E4.C4.A3', 'F3.A3.C4.F4', 'C3.G3.C4.E4', 'C3.G3.C4.E4', 'A2.A3.C4.E4', 'F4.D4.A3.D3', 'G3.B3.D4.G4', 'E3.B3.E4.G4', 'C3.C4.E4.G4', 'A2.C4.E4.A4', 'A3.C4.E4.A4', 'F3.C4.F4.A4', 'C4.E4.G4', 'G3.B3.D4.G4', 'E3.B3.E4.G4', 'G4.E4.C4.C3', 'F3.C4.F4.A4', 'C3.C4.E4.G4', 'F3.C4.F4.A4', 'D3.D4.F4.A4', 'G3.D4.G4.B4', 'E3.E4.G4.B4', 'C3.E4.G4.C5', 'G3.D4.G4.B4', 'G3.D4.G4.B4', 'C5.G4.E4.C3', 'C3.C4.E4.G4', 'G2.B3.D4.G4', 'G2.B3.D4.G4', 'A2.A3.C4.E4', 'E2.G3.B3.E4', 'A2.A3.C4.E4', 'G2.B3.D4.G4', 'G2.B3.D4.G4', 'C3.C4.E4.G4', 'A2.C4.E4.A4', 'F2.C4.F4.A4', 'F2.C4.F4.A4', 'G2.B3.D4.G4', 'C3.C4.E4.G4', 'C3.C4.E4.G4', 'C3.C4.E4.G4', 'G2.B3.D4.G4', 'C3.C4.E4.G4', 'E3.B3.E4.G4', 'A2.C4.E4.A4', 'E3.B3.E4.G4', 'F3.A3.C4.F4', 'C3.G3.C4.E4', 'D3.F3.A3.D4', 'A2.E3.A3.C4', 'F2.F3.A3.C4', 'D2.F3.A3.D4', 'A2.E3.A3.C4', 'C3.E3.G3.C4', 'G2.D3.G3.B3', 'C3.E3.G3.C4', 'G2.D3.G3.B3', 'A2.C3.E3.A3', 'F2.C3.F3.A3', 'D2.D3.F3.A3', 'G2.D3.G3.B3', 'C3.E3.G3.C4', 'G2.D3.G3.B3', 'G2.D3.G3.B3', 'C3.E3.G3.C4', 'A2.E3.A3.C4', 'F2.F3.A3.C4', 'B3.G3.D3.G2', 'G2.D3.G3.B3', 'C4.G3.E3.C2', 'C3.E4.G4.C5', 'E3.E4.G4.B4', 'F3.C4.F4.A4', 'C3.C4.E4.G4', 'G2.B3.D4.G4', 'C3.C4.E4.G4', 'C3.C4.E4.G4', 'A2.C4.E4.A4', 'F2.C4.F4.A4', 'C3.C4.E4.G4', 'G2.B3.D4.G4', 'C3.C4.E4.G4', 'C3.C4.E4.G4', 'F3.C4.F4.A4', 'C3.C4.E4.G4', 'D3.A3.D4.F4', 'G2.B3.D4.G4', 'D3.A3.D4.F4', 'G2.B3.D4.G4', 'G2.B3.D4.G4', 'C3.C4.E4.G4', 'C3.C4.E4.G4', 'G3.B3.D4.G4', 'E3.B3.E4.G4', 'E3.B3.E4.G4', 'A2.C4.E4.A4', 'D3.D4.F4.A4', 'G2.D4.G4.B4', 'C3.E4.G4.C5', 'F2.F4.A4.C5', 'C3.E4.G4.C5', 'G2.D4.G4.B4', 'C3.E4.G4.C5', 'C3.E4.G4.C5', 'G2.D4.G4.B4', 'A2.C4.E4.A4', 'F2.C4.F4.A4', 'G2.B3.D4.G4', 'C3.C4.E4.G4', 'F2.C4.F4.A4', 'C3.C4.E4.G4', 'C3.C4.E4.G4', 'G2.B3.D4.G4', 'E2.B3.E4.G4', 'A2.C4.E4.A4', 'D3.D4.F4.A4', 'G2.D4.G4.B4', 'C3.E4.G4.C5', 'C3.E4.G4.C5', 'E3.E4.G4.B4', 'F3.C4.F4.A4', 'D3.D4.F4.A4', 'F3.C4.F4.A4', 'G3.B3.D4.G4', 'C3.C4.E4.G4', 'A2.C4.E4.A4', 'F2.C4.F4.A4', 'D2.D4.F4.A4', 'G2.D4.G4.B4', 'C3.E4.G4.C5', 'F2.F4.A4.C5', 'B4.G4.D4.G2', 'G2.D4.G4.B4', 'C5.G4.E4.C3', 'C3.G3.C4.E4', 'C3.G3.C4.E4', 'G2.G3.B3.D4', 'A2.E3.A3.C4', 'E2.E3.G3.B3', 'F2.C3.F3.A3', 'D2.F3.A3.D4', 'A2.E3.A3.C4', 'G2.G3.B3.D4', 'C2.G3.C4.E4', 'C2.G3.C4.E4', 'F2.A3.C4.F4', 'C2.G3.C4.E4', 'G2.G3.B3.D4', 'G2.G3.B3.D4', 'A2.E3.A3.C4', 'F2.F3.A3.C4', 'D2.F3.A3.D4', 'G2.G3.B3.D4', 'G2.G3.B3.D4', 'A2.E3.A3.C4', 'F2.F3.A3.C4', 'D2.F3.A3.D4', 'G2.G3.B3.D4', 'C3.G3.C4.E4', 'C3.G3.C4.E4', 'F2.A3.C4.F4', 'G2.G3.B3.D4', 'C2.G3.C4.E4', 'C3.E3.G3.C4', 'F2.F3.A3.C4', 'A2.E3.A3.C4', 'C3.E3.G3.C4', 'F2.F3.A3.C4', 'G2.D3.G3.B3', 'C3.E3.G3.C4', 'C3.C4.E4.G4', 'A4.F4.C4.F2', 'A2.C4.E4.A4', 'G4.E4.C4.C3', 'D3.A3.D4.F4', 'A2.A3.C4.E4', 'F4.D4.A3.D3', 'G2.B3.D4.G4', 'D4.B3.G3.G2', 'E2.G3.B3.E4', 'E4.C4.G3.C2', 'G2.G3.B3.D4', 'A2.E3.A3.C4', 'D4.A3.F3.D2', 'G2.G3.B3.D4', 'C4.G3.E3.C3', 'A2.E3.A3.C4', 'D4.A3.F3.D2', 'G2.G3.B3.D4', 'C2.G3.C4.E4', 'F2.A3.C4.F4', 'A2.A3.C4.E4', 'F2.A3.C4.F4', 'F4.D4.A3.D2', 'G2.G3.B3.D4', 'E4.C4.G3.C2', 'C3.E4.G4.C5', 'C3.E4.G4.C5', 'C3.E4.G4.C5', 'C3.E4.G4.C5', 'A3.E4.A4.C5', 'G3.G4.B4.D5', 'G3.G4.B4.D5', 'C3.G4.C5.E5', 'C3.C5.E5.G5', 'E3.B4.E5.G5', 'F3.A4.C5.F5', 'C3.G4.C5.E5', 'A2.A4.C5.E5', 'D3.F4.A4.D5', 'A2.A4.C5.E5', 'D3.A4.D5.F5', 'A3.A4.C5.E5', 'F5.C5.A4.F3', 'G3.G4.B4.D5', 'E3.G4.B4.E5', 'G3.G4.B4.D5', 'A3.E4.A4.C5', 'E3.E4.G4.B4', 'F3.C4.F4.A4', 'F3.F4.A4.C5', 'D3.F4.A4.D5', 'D4.F4.A4.D5', 'G3.G4.B4.D5', 'C4.G4.C5.E5', 'A3.A4.C5.E5', 'F3.A4.C5.F5', 'C3.G4.C5.E5', 'F3.F4.A4.C5', 'D3.F4.A4.D5', 'G3.D4.G4.B4', 'C5.G4.E4.C3', 'C3.G3.C4.E4', 'F3.A3.C4.F4', 'C3.G3.C4.E4', 'G2.G3.B3.D4', 'C3.G3.C4.E4', 'G3.B3.D4', 'E3.G3.B3.E4', 'C3.G3.C4.E4', 'A2.A3.C4.E4', 'D3.A3.D4.F4', 'G2.B3.D4.G4', 'G3.B3.D4.G4', 'E3.B3.E4.G4', 'C3.C4.E4.G4', 'F2.C4.F4.A4', 'A2.C4.E4.A4', 'D3.A3.D4.F4', 'G3.B3.D4', 'G3.B3.D4', 'E4.C4.G3.C3', 'C3.G3.C4.E4', 'C3.G3.C4.E4', 'D4.B3.G3.G2', 'A2.E3.A3.C4', 'E2.E3.G3.B3', 'F2.C3.F3.A3', 'D2.F3.A3.D4', 'A2.E3.A3.C4', 'G2.G3.B3.D4', 'C2.G3.C4.E4', 'C2.G3.C4.E4', 'F2.A3.C4.F4', 'C2.G3.C4.E4', 'D4.B3.G3.G2', 'G2.G3.B3.D4', 'A2.E3.A3.C4', 'F2.F3.A3.C4', 'D2.F3.A3.D4', 'G2.G3.B3.D4', 'G2.G3.B3.D4', 'A2.E3.A3.C4', 'F2.F3.A3.C4', 'D2.F3.A3.D4', 'G2.G3.B3.D4', 'C3.G3.C4.E4', 'C3.G3.C4.E4', 'F2.A3.C4.F4', 'G2.G3.B3.D4', 'E4.C4.G3.C2', 'C3.E3.G3.C4', 'F2.F3.A3.C4', 'A2.E3.A3.C4', 'C3.E3.G3.C4', 'F2.F3.A3.C4', 'G2.D3.G3.B3', 'C4.G3.E3.C3', 'C3.C4.E4.G4', 'A4.F4.C4.F2', 'A2.C4.E4.A4', 'G4.E4.C4.C3', 'D3.A3.D4.F4', 'A2.A3.C4.E4', 'F4.D4.A3.D3', 'G2.B3.D4.G4', 'D4.B3.G3.G2', 'E2.G3.B3.E4', 'E4.C4.G3.C2', 'G2.G3.B3.D4', 'A2.E3.A3.C4', 'D4.A3.F3.D2', 'G2.G3.B3.D4', 'C4.G3.E3.C3', 'A2.E3.A3.C4', 'D4.A3.F3.D2', 'G2.G3.B3.D4', 'C2.G3.C4.E4', 'F2.A3.C4.F4', 'A2.A3.C4.E4', 'F2.A3.C4.F4', 'F4.D4.A3.D2', 'G2.G3.B3.D4', 'E4.C4.G3.C2', 'C3.E4.G4.C5', 'C3.E4.G4.C5', 'C3.E4.G4.C5', 'C3.E4.G4.C5', 'A3.E4.A4.C5', 'G3.G4.B4.D5', 'G3.G4.B4.D5', 'C3.G4.C5.E5', 'C3.C5.E5.G5', 'E3.B4.E5.G5', 'F3.A4.C5.F5', 'C3.G4.C5.E5', 'A2.A4.C5.E5', 'D3.F4.A4.D5', 'A2.A4.C5.E5', 'D3.A4.D5.F5', 'A3.A4.C5.E5', 'F5.C5.A4.F3', 'G3.G4.B4.D5', 'E3.G4.B4.E5', 'G3.G4.B4.D5', 'A3.E4.A4.C5', 'E3.E4.G4.B4', 'F3.C4.F4.A4', 'F3.F4.A4.C5', 'D3.F4.A4.D5', 'D4.F4.A4.D5', 'G3.G4.B4.D5', 'C4.G4.C5.E5', 'A3.A4.C5.E5', 'F3.A4.C5.F5', 'C3.G4.C5.E5', 'F3.F4.A4.C5', 'D3.F4.A4.D5', 'G3.D4.G4.B4', 'C5.G4.E4.C3', 'C3.G3.C4.E4', 'F3.A3.C4.F4', 'C3.G3.C4.E4', 'G2.G3.B3.D4', 'C3.G3.C4.E4', 'G3.B3.D4', 'E3.G3.B3.E4', 'C3.G3.C4.E4', 'A2.A3.C4.E4', 'D3.A3.D4.F4', 'G2.B3.D4.G4', 'G3.B3.D4.G4', 'E3.B3.E4.G4', 'C3.C4.E4.G4', 'F2.C4.F4.A4', 'A2.C4.E4.A4', 'D3.A3.D4.F4', 'G3.B3.D4', 'G3.B3.D4', 'E4.C4.G3.C3', 'C3.E4.G4.C5', 'G3.D4.G4.B4', 'E3.E4.G4.B4', 'C3.E4.G4.C5', 'A2.E4.A4.C5', 'D3.F4.A4.D5', 'G2.G4.B4.D5', 'C3.G4.C5.E5', 'G3.G4.B4.D5', 'A3.E4.A4.C5', 'E3.E4.G4.B4', 'F3.C4.F4.A4', 'C3.C4.E4.G4', 'D3.A3.D4.F4', 'A2.A3.C4.E4', 'D3.A3.D4.F4', 'G2.B3.D4.G4', 'C3.C4.E4.G4', 'C3.C4.E4.G4', 'F3.C4.F4.A4', 'D3.D4.F4.A4', 'G3.D4.G4.B4', 'G3.D4.G4.B4', 'E3.E4.G4.B4', 'A3.E4.A4.C5', 'F3.F4.A4.C5', 'B3.F4.B4.D5', 'G3.G4.B4.D5', 'C4.G4.C5.E5', 'F3.A4.C5.F5', 'G3.G4.B4.D5', 'D3.F4.A4.D5', 'A3.E4.A4.C5', 'A3.E4.A4.C5', 'D3.F4.A4.D5', 'F3.F4.A4.C5', 'G3.D4.G4.B4', 'G3.D4.G4.B4', 'C3.E4.G4.C5', 'E3.E4.G4.B4', 'F3.C4.F4.A4', 'F3.C4.F4.A4', 'B2.D4.F4.B4', 'D3.D4.F4.A4', 'E3.B3.E4.G4', 'E3.B3.E4.G4', 'A2.C4.E4.A4', 'C3.C4.E4.G4', 'D3.A3.D4.F4', 'D3.A3.D4.F4', 'G2.B3.D4.G4', 'E2.B3.E4.G4', 'A2.A3.C4.E4', 'A2.A3.C4.E4', 'D3.A3.D4.F4', 'F3.A3.C4.F4', 'C3.G3.C4.E4', 'G2.G3.B3.D4', 'E4.C4.G3.C3', 'C3.G3.C4.E4', 'A2.A3.C4.E4', 'D3.A3.D4.F4', 'D3.A3.D4.F4', 'B2.B3.D4.F4', 'E3.B3.E4.G4', 'E3.B3.E4.G4', 'C3.C4.E4.G4', 'F3.C4.F4.A4', 'F3.C4.F4.A4', 'D3.D4.F4.A4', 'G3.D4.G4.B4', 'G3.D4.G4.B4', 'G3.D4.G4.B4', 'E3.E4.G4.B4', 'C3.E4.G4.C5', 'F3.F4.A4.C5', 'D3.F4.A4.D5', 'G3.G4.B4.D5', 'E3.G4.B4.E5', 'A3.A4.C5.E5', 'F3.A4.C5.F5', 'B3.B4.D5.F5', 'G3.B4.D5.G5', 'C4.C5.E5.G5', 'C3.C5.E5.G5', 'G3.B4.D5.G5', 'A3.A4.C5.E5', 'E3.G4.B4.E5', 'F3.F4.A4.C5', 'F3.F4.A4.C5', 'C3.E4.G4.C5', 'D3.D4.F4.A4', 'D3.D4.F4.A4', 'D3.D4.F4.A4', 'E3.B3.E4.G4', 'G3.B3.D4.G4', 'G3.B3.D4.G4', 'C3.C4.E4.G4', 'C3.E3.G3.C4', 'C3.E3.G3.C4', 'F2.F3.A3.C4', 'G2.D3.G3.B3', 'E2.E3.G3.B3', 'A2.E3.A3.C4', 'F2.F3.A3.C4', 'B2.F3.B3.D4', 'G2.G3.B3.D4', 'C3.G3.C4.E4', 'A2.A3.C4.E4', 'D3.A3.D4.F4', 'B2.B3.D4.F4', 'E3.B3.E4.G4', 'C3.C4.E4.G4', 'F3.C4.F4.A4', 'D3.D4.F4.A4', 'B2.D4.F4.B4', 'G2.D4.F4.B4', 'G2.B3.D4.G4', 'B2.B3.D4.F4', 'G4.D4.B3.G2', 'A2.A3.C4.E4', 'F3.A3.C4.F4', 'D3.A3.D4.F4', 'B2.B3.D4.F4', 'G2.B3.D4.G4', 'C3.C4.E4.G4', 'F2.C4.F4.A4', 'D2.D4.F4.A4', 'G2.D4.G4.B4', 'G2.D4.G4.B4', 'C5.G4.E4.C3', 'C3.E3.G3', 'C3.E3.G3', 'A2.C3.E3.A3', 'D3.F3.A3', 'B2.D3.F3.B3', 'G2.D3.G3.B3', 'C3.E3.G3.C4', 'G2.D3.G3.B3', 'A2.C3.E3.A3', 'F2.C3.F3.A3', 'D2.D3.F3.A3', 'G2.D3.G3.B3', 'E2.E3.G3.B3', 'C2.E3.G3.C4', 'G2.D3.G3.B3', 'E2.E3.G3.B3', 'A2.E3.A3.C4', 'F2.F3.A3.C4', 'B2.F3.B3.D4', 'G2.G3.B3.D4', 'C3.G3.C4.E4', 'A2.A3.C4.E4', 'D3.A3.D4.F4', 'B2.B3.D4.F4', 'G2.B3.D4.G4', 'E2.B3.E4.G4', 'G2.B3.D4.G4', 'G4.E4.C4.C3', 'C3.E4.G4.C5', 'G3.D4.G4.B4', 'E3.C4.G4.C5', 'F3.C4.F4.A4', 'C3.C4.E4.G4', 'A2.C4.F4', 'C3.G3.C4.E4', 'A2.F3.C4.F4', 'G2.E3.C4.G4', 'F2.F3.C4.A4', 'F3.A3.C4.F4', 'E3.G3.C4.G4', 'C3.G3.C4.E4', 'G3.B3.D4', 'C3.G3.C4.E4', 'G3.B3.D4', 'C3.G3.C4.E4', 'A3.C4.E4', 'F3.A3.D4', 'E3.A3.C4.E4', 'D3.A3.D4.F4', 'B2.D4.G4', 'C3.C4.E4.G4', 'F3.C4.F4.A4', 'A3.E4.C5', 'F3.A3.F4.D5', 'G3.E4.C5', 'G3.D4.B4', 'C5.E4.G3.C3', 'C3.G3.E4.C5', 'E4.C4.G3.C3', 'G2.G3.B3.D4', 'A2.E3.A3.C4', 'F2.D3.A3.D4', 'E2.C3.A3.E4', 'D2.D3.A3.F4', 'B1.D3.G3.G4', 'C2.C3.G3.E4', 'C3.G3.E4', 'F2.C3.A3.F4', 'G4.G3.C3.E2', 'E2.C3.G3.G4', 'F2.C3.A3.F4', 'G2.B2.G3.D4', 'C2.C3.G3.E4', 'B1.D3.G3.D4', 'C2.E3.G3.C4', 'B3.G3.D3.G2', 'E2.G3.C4', 'F2.F3.A3.D4', 'G2.E3.B3.E4', 'A2.C4.F4', 'B2.B3.D4.G4', 'C3.A3.E4.A4', 'G2.B3.D4.G4', 'E2.G3.C4.G4', 'F4.C4.A3.F2', 'C3.G3.C4.E4', 'A2.F3.C4.F4', 'G2.E3.C4.G4', 'F2.F3.C4.A4', 'G2.E3.C4.G4', 'G2.G3.C4.E4', 'G2.E3.G3.C4', 'G2.D3.G3.B3', 'G2.G3.B3.D4', 'C4.G3.E3.C3', 'C3.E4.G4.C5', 'C4.E4.G4.C5', 'C4.E4.G4.C5', 'A3.E4.A4.C5', 'A3.E4.A4.C5', 'F3.F4.A4.C5', 'G3.D4.G4.B4', 'E4.G4.C5', 'D4.G4.B4.D5', 'C4.G4.C5.E5', 'A3.F4.C5.F5', 'C4.G4.C5.E5', 'G3.G4.B4.D5', 'C4.G4.C5.E5', 'G3.E4.B4.E5', 'A3.E4.A4.C5', 'A3.F4.C5.F5', 'B3.F4.B4.D5', 'B3.G4.D5.G5', 'C4.G4.C5.E5', 'C4.A4.E5.A5', 'D4.A4.D5.F5', 'D4.B4.F5.B5', 'E4.B4.E5.G5', 'E4.C5.G5.C6', 'F4.C5.F5.A5', 'C4.C5.E5.G5', 'A3.C5.E5.A5', 'G3.D5.G5.B5', 'E3.C5.G5.C6', 'F3.C5.F5.A5', 'D3.D5.F5.A5', 'G3.B4.D5.G5', 'E3.G4.C5.G5', 'F3.A4.C5.F5', 'G3.G4.B4.D5', 'C3.G4.C5.E5', 'C3.E4.G4.C5', 'G3.D4.G4.B4', 'C5.G4.C4.E3', 'F3.C4.F4.A4', 'D3.B3.F4.B4', 'E3.B3.E4.G4', 'A4.E4.A3.C3', 'D3.A3.D4.F4', 'B2.G3.D4.G4', 'C3.G3.C4.E4', 'A2.F3.C4.F4', 'G2.E3.C4.G4', 'F2.F3.C4.A4', 'E2.G3.C4.G4', 'F2.A3.C4.F4', 'C3.G3.C4.E4', 'G2.G3.B3.D4', 'C3.G3.C4.E4', 'E3.G3.C4.G4', 'G4.D4.B3.G3', 'E3.C4.G4', 'F3.A3.C4.F4', 'C3.G3.C4.E4', 'A2.F3.C4.F4', 'C3.E3.C4.G4', 'C3.C4.E4.G4', 'F3.C4.F4.A4', 'E3.C4.G4', 'F3.C4.F4.A4', 'C3.E4.G4.C5', 'F2.F4.A4.C5', 'E2.G4.C5', 'D2.F4.A4.D5', 'G2.E4.G4.C5', 'G2.D4.G4.B4', 'C3.E4.G4.C5', 'E5.C5.G4.C3', 'E3.G4.B4.E5', 'D5.A4.F4.F3', 'D3.F4.B4.F5', 'E5.C5.G4', 'G3.G4.B4.D5', 'C5.A4.E4.A3', 'F3.D4.A4.D5', 'E5.A4.C4.E3', 'D3.D4.A4.F5', 'B2.D4.D5', 'C3.C4.E5', 'G2.B3.G4.D5', 'E5.G4.C4.C3', 'D3.B3.F4.D5', 'C5.E4.C4.E3', 'F3.A3.D4.D5', 'F3.A4', 'G3.B4', 'E3.C4.G4.C5', 'F3.A3.F4.C5', 'G3.D4.B4', 'D3.F3.D4.B4', 'C3.G3.E4.C5', 'F3.A3.F4.D5', 'G3.D4.B4', 'C5.E4.G3.C3', 'C3.E4.G4.C5', 'D3.D4.F4.B4', 'E3.C4.G4.C5', 'F3.C4.F4.A4', 'G3.B3.D4.G4', 'E3.G3.C4.G4', 'F3.A3.C4.F4', 'C3.G3.C4.E4', 'A2.F3.C4.F4', 'G2.E3.C4.G4', 'F2.F3.C4.A4', 'A2.F3.C4.F4', 'C3.G3.C4.E4', 'C3.C4.E4.G4', 'C3.E4.G4.C5', 'G3.D4.G4.B4', 'F3.D4.A4.D5', 'E3.E4.G4.C5', 'D3.F4.B4', 'C3.E4.G4.C5', 'B2.D4.G4.D5', 'C3.C4.G4.E5', 'G2.B3.G4.D5', 'A2.A3.E4.C5', 'F2.A3.A4.D5', 'E2.C4.A4.E5', 'D2.D4.A4.F5', 'D3.F4.A4.D5', 'B2.D4.G4.G5', 'C3.C4.G4.E5', 'A2.C4.F4.F5', 'G2.C4.G4.E5', 'F2.C4.A4.F5', 'B3.G4.D5', 'D4.G4.B4', 'G2.B3.G4.D5', 'C3.C4.G4.E5', 'A2.C4.F4.C5', 'F2.C4.F4.A4', 'C3.C4.E4.C5', 'C3.E-4.G4.C5', 'C4.E-4.G4.C5', 'D4.F4.B4', 'C4.E-4.G4.C5', 'B3.D4.G4.D5', 'C4.E-4.G4.C5', 'G#3.F4.C5', 'G3.E-4.G4.C5', 'F3.F4.G#4.C5', 'D3.F4.G#4.D5', 'G3.D4.G4.B4', 'E-3.E-4.G4.B4', 'C3.E-4.G4.C5', 'G#2.E-4.C5', 'G2.G4.B4.D5', 'C3.E-4.G4.C5', 'E-3.C4.G4.C5', 'D3.D4.F4.B4', 'C3.E-4.C5', 'G3.B3.G4.D5', 'E-3.C4.G4.C5', 'F3.C4.G#4.C5', 'D3.B3.F4.D5', 'C3.G3.E-4.E-5', 'C3.E-4.G4.C5', 'G#3.E-4.G#4.C5', 'F3.F4.G#4.C5', 'G3.E-4.G4.C5', 'G3.D4.G4.B4', 'C3.E-4.G4.C5', 'C3.C4.E-4.G4', 'C3.C4.E-4.G4', 'F3.D4.G#4', 'G3.B3.D4.G4', 'E-3.C4.G4', 'F3.G#3.C4.F4', 'C3.G3.C4.E-4', 'B2.G3.D4', 'C3.G3.C4.E-4', 'G2.B3.D4.G4', 'E-2.B3.E-4.G4', 'G#2.C4.E-4', 'C3.G3.C4.E-4', 'F2.G#3.C4.F4', 'C3.G3.C4.E-4', 'C3.G3.C4.E-4', 'G2.G3.B3.D4', 'D3.F3.B3.F4', 'C3.G3.C4.E-4', 'B2.G3.D4', 'G2.G3.B3.D4', 'C3.G3.C4.E-4', 'D3.G3.B3.D4', 'E-3.G3.C4', 'C4.G#3.F3', 'C3.G3.C4.E-4', 'G#2.F3.C4.F4', 'G2.E-3.C4.G4', 'F2.F3.C4.G#4', 'G2.E-3.C4.G4', 'G2.B3.D4', 'C3.C4.E-4', 'G#2.F3.C4', 'F2.F3.G#3.C4', 'C3.E-3.G3.C4', 'B2.D4.F4.G4', 'C3.C4.E4.G4', 'E3.C4.G4.C5', 'F3.D4.G4.B4', 'E3.C4.G4.C5', 'F3.C4.F4.A4', 'D3.B3.F4.G4', 'C3.C4.E4.G4', 'B2.G3.D4.F4', 'C3.G3.C4.E4', 'A2.F3.C4.F4', 'G2.E3.C4.G4', 'F2.F3.C4.A4', 'C3.G3.E4.G4', 'C3.E4.G4.C5', 'G2.D4.G4.B4', 'G3.D4.G4.B4', 'F3.D4.G4.B4', 'E3.C4.G4.C5', 'D3.B3.G4.D5', 'C3.C4.G4.E5', 'E3.C4.G4.C5', 'F3.C4.A4.C5', 'D3.F4.A4.D5', 'G3.E4.G4.C5', 'G3.E4.G4.C5', 'G2.D4.G4.B4', 'G2.D4.F4.B4', 'C3.C4.E4.C5', 'C4.G4.E5', 'G3.B3.G4.D5', 'F5.F4.C4.A3', 'C4.G4.E5', 'G3.B3.G4.D5', 'F3.D4.G4.B4', 'E3.C4.G4.C5', 'D3.B3.G4.D5', 'C3.C4.G4.E5', 'B2.D4.G4.F5', 'C3.C4.G4.E5', 'D5.G4.B3.G3', 'E3.C4.G4.C5', 'F3.C4.F4.A4', 'D3.F4.G4.B4', 'C3.E4.G4.C5', 'G3.D4.G4.B4', 'E3.C4.G4', 'F3.C4.F4.A4', 'D3.F4.G4.B4', 'C5.G4.E4.C3', 'C3.E4.G4.C5', 'B2.D4.G4.D5', 'C3.E4.G4.C5', 'G3.D4.G4.B4', 'E3.C4.G4.C5', 'F3.C4.F4.A4', 'D3.B3.G4.F5', 'C3.C4.G4.E5', 'C3.E4.G4.C5', 'F3.C4.F4.A4', 'G4.E4.C4.G3', 'G3.D4.F4.B4', 'C5.E4.C4.C3', 'C3.C4.G4.E-5', 'C3.C4.G4.E-5', 'G3.B3.G4.D5', 'C5.E-4.C4.G#3', 'F3.G#3.F4.C5', 'D3.G3.F4.B4', 'C3.G3.E-4.C5', 'B2.G3.D4.D5', 'C3.G3.E-4.C5', 'C3.C4.G4.E-5', 'G3.B3.G4.D5', 'E-3.C4.G4.G5', 'F3.C4.G#4.F5', 'C3.C4.G4.E-5', 'G3.B3.F4.D5', 'C3.C4.E-4.C5', 'D3.B3.G4.F5', 'C3.C4.G4.E-5', 'B2.F4.G4.D5', 'C3.E-4.G4.C5', 'G#2.F4.C5', 'G2.E-4.G4.C5', 'F2.F4.G#4.C5', 'C5.G4.E-4.C3', 'C3.C4.E-4.G4', 'D3.B3.F4.G4', 'E-3.C4.E-4.G4', 'B2.D4.F4.G4', 'C3.C4.E-4.G4', 'C3.C4.G4.E-5', 'F3.B3.G4.D5', 'E-3.C4.G4.C5', 'D3.D4.G4.B4', 'C3.E-4.G4.C5', 'E-3.C4.G4', 'F3.C4.F4.G#4', 'C4.E-4.G4', 'E-4.G4.C5', 'G3.D4.F4.B4', 'C3.C4.E-4.C5', 'C3.G4.C5.E-5', 'F3.G#4.C5.F5', 'E-3.G4.C5.G5', 'G3.G4.B4.D5', 'B2.G4.D5.F5', 'C3.G4.C5.E-5', 'E-3.E-4.G4.C5', 'G3.D4.G4.B4', 'E-3.G4.C5', 'F3.F4.G#4.C5', 'D3.F4.G4.B4', 'C3.E-4.G4.C5', 'C3.E-4.G4.C5', 'B2.F4.G4.D5', 'C3.E-4.G4.C5', 'G3.D4.G4.B4', 'F3.B3.G4.D5', 'E-3.C4.G4.C5', 'D3.B3.G4.F5', 'C3.C4.G4.E-5', 'C3.C4.G4.E-5', 'G#2.E-4.C5.G#5', 'C3.E-4.C5.G5', 'E-3.G4.C5.E-5', 'G3.G4.B4.D5', 'E-3.G4.C5.G5', 'F3.G#4.C5.F5', 'D5.G4.B2', 'B2.G4.D5.F5', 'C3.G4.C5.E-5', 'E-3.G4.C5.G5', 'F3.F4.C5.G#5', 'G3.E-4.C5.G5', 'G#3.F4.C5.F5', 'G3.G4.B4.F5', 'C4.G4.C5.E-5', 'E-3.G4.C5.G5', 'F3.G#4.C5.F5', 'G3.G4.C5.E-5', 'G3.F4.B4.D5', 'C5.G4.E-4.C3', 'C4.E4.G4.C5', 'G3.D4.G4.B4', 'F3.D4.G4.B4', 'E3.C4.G4.C5', 'D3.B3.G4.D5', 'C3.C4.G4.E5', 'B2.D4.G4.F5', 'C3.C4.G4.E5', 'G3.B3.F4.D5', 'C4.E4.C5', 'A3.C4.A4.E5', 'D4.F4.D5', 'G3.D4.F4.B4', 'E3.C4.G4.C5', 'F3.C4.F4.A4', 'G3.B3.F4.D5', 'G3.C4.E4.C5', 'G3.D4.G4.B4', 'C4.E4.G4.C5', 'B3.D4.G4.D5', 'C4.G4.E5', 'A3.C4.A4.E5', 'F3.C4.A4.F5', 'E3.C4.G4.C5', 'G3.D4.F4.B4', 'E3.E4.G4.C5', 'F3.C4.F4.A4', 'D3.F4.A4.D5', 'G3.E4.G4.C5', 'G3.D4.F4.B4', 'C3.C4.E4.C5', 'C3.E4.G4.C4', 'A2.C4.F4', 'C3.C4.E4', 'E3.C4.G4', 'F3.C4.A4', 'D3.G3.F4.B4', 'C3.G3.E4.C5', 'B2.G3.D4.D5', 'C3.G3.E4.C5', 'G2.G3.D4.B4', 'F2.A3.D4.A4', 'F2.B3.D4.G4', 'E2.C4.G4', 'C2.G3.C4.E4', 'G2.G3.B3.D4', 'E2.G3.C4.E4', 'G2.G3.B3.D4', 'D3.G3.B3.F4', 'C3.G3.C4.E4', 'F3.A4', 'C3.E3.G4', 'A2.F3.F4', 'C3.G3.E4', 'F3.A3.D4', 'A3.D4.F4', 'C4.E4', 'A3.A2', 'C4.E4', 'F2.D4.F4', 'F2.F4.A4', 'G2.B3.G4', 'B2.G3.F4', 'C3.G3.C4.E4', 'F2.A3.D4.F4', 'G2.G3.C4.E4', 'G2.F3.B3.D4', 'C3.E3.G3.C4', 'C3.E4.G4.C5', 'B2.D4.D5', 'C3.E4.C5', 'D4.B4', 'G4.G3', 'B3.D5', 'E3.G4.C5', 'F3.F4.A4', 'C3.C4.E4.G4', 'C3.E4.G4.C5', 'C3.G4.E5', 'C3.E4.G5', 'C4.A4.F5', 'F4.C5.A5', 'G4.E5.G5', 'C5.E5', 'G3.G4.B4.D5', 'E3.G4.C5.E5', 'F3.F4.A4.C5', 'B3.F4.D5', 'C4.E4.C5', 'G3.D4.G4.B4', 'A3.C4.E4.A4', 'B3.G4', 'F4.D3', 'G3.B4', 'G3.E4.C5', 'C4.G4.E5', 'B2.D5', 'G4.D4', 'B2.G5', 'C3.G4.E5', 'F3.A4.C5', 'G3.C4.G4.E5', 'G3.B3.F4.D5', 'C3.G3.E4.C5', 'C3.G3.E-4.C5', 'C3.G3.C4.E-4', 'G3.B3.D4', 'G2.G3.B3.D5', 'C4.G3.C3', 'E-3.G3.C4.G4', 'F3.F4', 'C4.G#3', 'D3.B3.G4.F5', 'G4.E-5', 'C4.C3', 'E-4.C5', 'G#2.C4.F4', 'G2.E-4.G4', 'F2.F4.G#4', 'G#2.G#3.C4.F4', 'C3.C4.E-4', 'B2.D4.F4', 'C3.C4.E-4', 'G3.B3.D4', 'E-3.C4.G4.C5', 'F3.G#3.F4.C5', 'D3.G3.F4.B4', 'C3.G3.E-4.C5', 'B2.F4.D5', 'C3.C5', 'G#2.C4.E-5', 'G#4.F5', 'G#2.C5', 'G2.C4.G4.E-5', 'G2.B3.F4.D5', 'G2.C4.E-4.C5', 'G2.D4.F4.B4', 'G2.C4.E-4.C5', 'G2.B3.F4.D5', 'C3.C4.E-4.C5', 'F2.G#3.F4.C5', 'C3.G3.E-4.C5', 'C3.E4.G4.C5', 'E3.C4.G4.C5', 'G3.D4.G4.B4', 'G2.B3.F4.D5', 'C3.C4.E4.C5', 'C3.C4.E4.G4', 'F4.A4', 'C4.F3', 'B3.G3', 'C3.C4.E4.G4', 'A2.C4.F4', 'G2.C4.E4.G4', 'F2.C4.F4.A4', 'G2.B3.D4.G4', 'C3.G3.C4.E4', 'G3.D4', 'D4.G4', 'C3.C4.E4.G4', 'A2.C4.E4.A4', 'G2.B3.F4.A4', 'C3.C4.E4.G4', 'F3.C4.F4.A4', 'F3.D4.G4.B4', 'E3.E4.G4.C5', 'D3.F4.A4.D5', 'G3.E4.C5', 'G3.D4.B4', 'C3.C4.E4.C5', 'C3.C4.E-4.G4', 'C3.E-4.G4.C5', 'B2.D4.G4.D5', 'C3.G4.C5.E-5', 'E-3.G4.C5.G5', 'F3.G#4.C5.F5', 'G3.G#4.B4.F5', 'C3.G4.C5.E-5', 'G3.G4.B4.D5', 'G#3.E-4.C5', 'F3.G#4.C5.F5', 'G3.G#4.B4.F5', 'C3.G4.C5.E-5', 'G#2.C5.E-5.G#5', 'G2.B4.F5.G#5', 'C3.C5.E-5.G5', 'C3.C5.E-5.G5', 'F3.G#4.C5.F5', 'G4.C5.E-5', 'G4.C5.E-5', 'G3.F4.B4.D5', 'C3.E-4.G4.C5', 'C3.E4.G4.C5', 'D3.F4.B4', 'C3.E4.C5', 'G2.B3.D5', 'B2.D4.G5', 'C4.E5', 'G4.C3', 'E4.C5', 'G4.C4.E3', 'F3.F4.A4', 'C3.E4.G4', 'D4.G4', 'B3.G3', 'B4.D5', 'A3.C4.C5', 'F4.B4', 'B3.F5', 'C3.C4.E5', 'B2.D4.D5', 'C3.E4.G4.C5', 'F3.C4.F4.A4', 'G3.B3.F4.A4', 'C3.C4.E4.G4', 'F4.A4', 'C4.F3', 'A4.F5', 'B3.G4.D5', 'D4.F4.B4', 'C3.C4.E4.C5', 'C3.C4.G4.E-5', 'G#3.C4.C5.E-5', 'G3.D4.B4.G5', 'C3.C4.G4.E-5', 'B2.D4.D5', 'C3.E-4.C5', 'G2.D4.G4.B4', 'C3.E-4.C5', 'B2.D4.D5', 'C3.C4.G4.E-5', 'G#2.E-4.C5.G#5', 'G2.F4.B4.G#5', 'C3.E-4.G5', 'C3.C4.E-5', 'E-3.C4.G4.C5', 'F3.C4.F4.G#4', 'G3.C4.E-4.G4', 'G3.B3.F4.D5', 'C3.G3.E-4.C5', 'C2.G3.C4.E4', 'E2.G3.C4.E4', 'G2.G3.C4.E4', 'C3.G3.C4.E4', 'B2.D4.F4', 'C3.C4.E4', 'G2.G3.B3.D4', 'A2.F3.B3.D4', 'G2.G3.C4.E4', 'F2.A3.C4.F4', 'E2.G3.C4.G4', 'A3.F4', 'C4.F2', 'D4.B1', 'C2.G3.C4.E4', 'E2.E3.B3.G4', 'A2.E3.C4.A4', 'F2.A3.D4.A4', 'G2.G3.D4.B4', 'F2.G3.D4.B4', 'E2.G3.C4.C5', 'F2.F3.C4.A4', 'D2.A3.D4.F4', 'D2.F3.A3.D4', 'G2.E3.G3.C4', 'G2.F3.G3.B3', 'C2.E3.G3.C4', 'F3.A3.C4', 'C3.E3.G3.C4', 'C3.G3.C4.E4', 'A2.A3.C4.E4', 'F2.A3.B3.D4', 'E2.G3.C4.G4', 'G3.B3.F4', 'C3.G3.C4.E4', 'A2.A3.C4.E4', 'A2.F3.B3.D4', 'G2.G3.C4.E4', 'F2.A3.C4.F4', 'C4.E2', 'D4.B3.G2', 'C3.C4.E4.G4', 'D3.A3.D4.F4', 'B2.A3.F4.D5', 'C3.G3.E4.C5', 'G2.G3.D4.B4', 'E4.G3.C3', 'F4.A3.F3', 'D3.A3.F4.B4', 'E3.G3.E4.C5', 'F3.A3.D4.D5', 'E4.C5', 'G2.D4.B4', 'C3.E3.C4.C5', 'C3.E-4.G4.C5', 'C3.G4.C5.E-5', 'G3.G4.B4.D5', 'F3.G4.B4.D5', 'E-3.G4.C5.G5', 'D3.G4.B4.F5', 'C3.G4.C5.E-5', 'B2.F4.G4.D5', 'C3.E-4.G4.C5', 'E-3.G4.C5', 'F4.G#5', 'C5.F3', 'B4.D3', 'E-3.G5', 'C5.G4', 'C3.E-5', 'G3.G4.B4.D5', 'G4.C5.E-5', 'E-4.G4.C5', 'G2.D4.G4.B4', 'C3.E-4.G4.C5', 'G#3.F4.B4.D5', 'G3.G4.C5.E-5', 'F3.G#4.F5', 'E-3.G4.G5', 'F4.G#5', 'C5.F3', 'B4.D3', 'E-3.G4.C5.G5', 'F3.G#4.D5.F5', 'G3.G4.B4.D5', 'F3.D4.B4.G5', 'E-3.C4.C5.G5', 'F3.C4.G#4.C5', 'D3.F4.G#4.B4', 'E-3.E-4.G4.C5', 'F3.G#4.D5', 'G3.B4', 'C3.C4.E-4.C5', 'E4.G4.C5', 'D4.G4.B4', 'D3.B4', 'G4.F4', 'B2.D5', 'C3.E4.G4.C5', 'C3.C4.E4.G4', 'B2.D4.F4.G4', 'D3.B3.F4.G5', 'C3.C4.E4.G5', 'E3.C4.G4.E5', 'G3.B3.G4.D5', 'A3.E4.C5', 'E3.B3.E4.G4', 'D3.B3.F4.G4', 'E4.C4.C3', 'F4.A3.F3', 'F4.B4', 'A3.D3', 'G3.D3', 'C3.G3.E4.C5', 'C3.C4.E4.G4', 'F3.C4.F4.A4', 'D3.B3.F4.G5', 'B2.D4.F4.G5', 'G2.B3.F4.G4', 'C3.C4.E4.G4', 'C3.C4.G4.E5', 'F3.A3.F4.D5', 'G3.D4.B4', 'C3.G3.E4.C5', 'C3.G3.C4.E-4', 'G2.G3.B3.D4', 'G#2.E-3.C4', 'D2.F3.B3.G#4', 'D2.F3.B3.G4', 'B1.F3.G3.D4', 'C2.E-3.G3.E-4', 'C3.E-3.G3.C4', 'C3.G3.E-4.C5', 'D3.G3.F4.B4', 'D3.B3.F4.G4', 'B2.G3.F4.D5', 'C3.G3.E-4.C5', 'F3.G#3.C4.G#4', 'D3.G#3.B3.F4', 'D3.G3.B3.F4', 'C3.G3.C4.E-4', 'C3.E-3.C4', 'G#2.F3.C4.F4', 'G2.E-3.C4.G4', 'F2.F3.C4.G#4', 'G2.D3.B3.G4', 'G#2.D3.B3.F4', 'G2.D3.B3.G4', 'F2.D3.B3.G#4', 'E-2.C3.C4.G4', 'E-2.G3.C4.C5', 'F2.F3.C4.G#4', 'E-3.C4.G4', 'G3.C4.E-4', 'G2.F3.B3.D4', 'C3.E-3.G3.C4', 'C3.E4.G4.C5', 'A2.E4.A4.C5', 'F2.D4.A4.C5', 'G2.D4.G4.B4', 'B2.D4.G4.D5', 'C3.E4.G4.C5', 'G3.D4.G4.B4', 'E3.C4.G4.B4', 'F3.C4.F4.A4', 'D3.B3.F4.A4', 'E3.B3.E4.G4', 'C3.A3.E4.G4', 'D3.A3.D4.F4', 'B2.A3.D4.F4', 'B2.G3.D4.E4', 'A2.A3.C4.E4', 'F2.A3.D4', 'A2.A3.C4.E4', 'D3.A3.D4.F4', 'B2.G3.D4.F4', 'C3.G3.C4.E4', 'B3.D4', 'B3.D4.G4', 'D4.G4.B4', 'G3.G4.B4.D5', 'G3.G4.B4.D5', 'F3.G4.B4.D5', 'E3.G4.B4.C5', 'E3.F4.A4.C5', 'D3.F4.A4.B4', 'D3.E4.G4.B4', 'C3.E4.G4.A4', 'D3.D4.F4.A4', 'B2.D4.F4.G4', 'C3.C4.E4.G4', 'E3.C4.G4.C5', 'F3.A3.F4.C5', 'B2.A3.F4.D5', 'C3.G3.E4.E5', 'F3.A3.F4.C5', 'F3.A3.F4.C5', 'E3.G3.G4.C5', 'D3.A3.F4.C5', 'G3.F4.B4', 'C3.G3.E4.C5', 'C4.E4.G4.C5', 'C4.G4.C5.E5', 'B3.G4.D5.F5', 'C4.G4.C5.E5', 'G3.G4.B4.D5', 'A3.E4.A4.C5', 'D5.A4.D4.F3', 'F3.D4.A4.C5', 'G3.D4.G4.B4', 'E3.C4.G4.C5', 'F3.C4.F4.A4', 'C3.C4.E4.G4', 'C3.E4.G4.C5', 'C3.G4.C5.E5', 'C4.G4.C5.E5', 'B3.G4.D5.F5', 'C4.G4.C5.E5', 'A3.F4.C5.E5', 'B3.F4.B4.D5', 'G3.E4.B4.D5', 'A3.E4.A4.C5', 'F3.D4.A4.C5', 'G3.D4.G4.B4', 'C4.G4.C5', 'C4.G4.G5', 'D3.C4.A4.F5', 'G3.B3.G4.F5', 'C3.C4.G4.E5', 'C4.E4.G4.C5', 'B4.G4.D4.G3', 'B4.G4.E4.E3', 'A3.E4.A4.C5', 'G3.E4.A4.C5', 'F3.D4.A4.D5', 'G3.D4.G4.B4', 'B3.D4.G4', 'E4.G4.C5', 'G4.C5.E5', 'B3.G4.C5.E5', 'A3.F4.C5.F5', 'C4.G4.C5.E5', 'C4.C5.E5.G5', 'F3.C5.F5.A5', 'D3.B4.F5.A5', 'E3.B4.E5.G5', 'C3.A4.E5.G5', 'D3.A4.D5.F5', 'B3.G4.D5.F5', 'E5.C5.G4.C4', 'F3.A4.C5.D5', 'G3.G4.B4.D5', 'G3.E4.B4.E5', 'A3.E4.A4.C5', 'F3.D4.A4', 'B4.G4.D4.G3', 'C4.E4.G4.C5', 'B3.F4.G4.D5', 'C5.G4.E4.C4', 'C4.E4.G4.C5', 'A3.C4.E4.A4', 'A3.D4.F4.B4', 'G#3.D4.E4.B4', 'A3.C4.E4.A4', 'F3.C4.F4.A4', 'D3.B3.F4.A4', 'D3.B3.E4.G#4', 'C3.A3.E4.A4', 'D3.A3.F4.A4', 'B2.G#3.F4.D5', 'B2.G#3.E4.D5', 'A2.A3.E4.C5', 'G#2.B3.E4.B4', 'A2.A3.E4.C5', 'C3.A3.E4.A4', 'B3.E4.G#4', 'C3.A3.E4.A4', 'A2.A3.E4.C5', 'F2.A3.F4.C5', 'D3.A3.F4.B4', 'E3.G#3.E4.B4', 'D3.G#3.E4.E5', 'C3.A3.E4.E5', 'D3.A3.F4.D5', 'A2.A3.E4.C5', 'C3.A3.E4.C5', 'D3.A3.F4.B4', 'E3.G#3.B4', 'A2.A3.C4.A4', 'C3.E-4.G4.C5', 'E-3.G4.C5', 'G3.G4.B4.D5', 'C4.G4.C5.E-5', 'G#3.F4.C5.E-5', 'G#3.F4.B4.D5', 'G3.G4.C5.E-5', 'F3.G#4.C5.F5', 'E-3.G4.C5.G5', 'G4.B4.D5', 'E-3.G4.C5.E-5', 'D3.G#4.C5.F5', 'D3.G4.B4.F5', 'C3.G4.C5.E-5', 'G#3.F4.C5.D5', 'G3.G4.B4.D5', 'F3.G#4.B4.D5', 'E-3.G4.C5.E-5', 'C3.G4.C5.E-5', 'G3.G4.B4.D5', 'B3.D5.G5', 'C4.C5.E-5.G5', 'C4.G#4.E-5.G#5', 'C4.G#4.E-5.G5', 'C4.G#4.D5.F5', 'B3.G4.D5.F5', 'C4.G4.C5.E-5', 'G#3.F4.C5.D5', 'G#3.F4.B4.D5', 'G3.G4.C5.E-5', 'F3.G#4.C5.F5', 'C3.G4.C5.E-5', 'D3.G#4.B4.F5', 'E-3.G4.C5.E-5', 'F3.G#4.C5.D5', 'G3.G4.B4.D5', 'C4.G4.C5.E-5', 'G#3.G#4.C5.E-5', 'F3.G#4.C5.D5', 'G3.B4.D5', 'C3.E-4.G4.C5', 'G4.E4.C4', 'A3.F5', 'C5.C4', 'G3.E5', 'A4.D4.F3', 'D4.G4.B4', 'E3.C5', 'G4.C4', 'C3.E5', 'G4.D4.B2', 'C3.C4.G4.E5', 'E3.C4.G4.E5', 'G3.B3.G4.D5', 'F3.D4.A4.D5', 'E3.E4.G4.C5', 'D3.F4.B4', 'C3.E4.C5', 'F3.A4.C5', 'G3.G4.B4', 'C3.E4.G4.C5', 'C4.E4.G4.C5', 'B3.D4.D5', 'A3.C4.E5', 'B3.D4.F4.D5', 'C5.C4', 'C5.C3', 'E3.C4.B4.G5', 'F3.C4.A4.A5', 'E3.C4.C5.G5', 'C3.G4.E5.C6', 'G4.G3', 'F4.B4.D5.A5', 'E4.C5.E5.G5', 'C4.C5.E5.G5', 'F4.C5.F5.A5', 'G4.G5', 'D5.B4', 'G3.F5', 'C4.G4.C5.E5', 'B3.D5', 'A3.C5.E5', 'B3.F4.D5', 'G4.E4', 'C3.C6', 'E3.G4.C5.B5', 'F3.F4.A5', 'G3.E4.G5', 'A3.F4.C5.F5', 'G4.C5.E5', 'F4.B4.D5', 'A3.E4.A4.C5', 'C5.A4.F4', 'G3.F4.G4.B4', 'C3.E4.G4.C5', 'G4.E4', 'F4.D4', 'C4.E5', 'D3.B4', 'E4.C5', 'B-4.D3', 'F4.D3', 'E3.G5', 'C#4.A2', 'D4.B2', 'C#3.E4.E5', 'D3.D5.F4', 'G3.D4.B4', 'F4.D4', 'G3.D5', 'E4.C3', 'G4.E3', 'B3.D4.G4', 'E4.C5', 'F#3.A3.A4.D5', 'G#3.B4', 'G3.G4.E5', 'B4.D4', 'E3.G5', 'C5.E4', 'B4.D4', 'F3.A4.F5', 'G3.G4.E5', 'G2.F4.D5', 'C3.G3.E4.C5', 'C3.G4', 'B3.C3', 'C4.A3.F3', 'C#4.G3.E3', 'D3.B-4', 'C3.E4.C5', 'B2.D4.D5', 'C3.G3.E4.C5', 'E-4.F3', 'G#3.E3', 'C3.E4.C5', 'D4.B4', 'G4.B3.E3', 'G#4.C3', 'C#4.F2', 'B-4.B-2', 'B4.G#2', 'A4.C4', 'G4.B-3', 'A3.F2', 'D3.B4', 'B2.D5', 'G#3.C3', 'D3.D5', 'B2.E-5', 'C3.E4.E5', 'F2.A3.D5', 'G2.G3.B4', 'C3.G3.E4.C5', 'E4.C4', 'F4.D4', 'E4.C4', 'E4.B3', 'F#4.A3', 'B3.E4.G#4', 'A3.E4.A4', 'A3.E4.C5', 'F3.A4.D5', 'G4.C4.E3', 'F4.D4.D3', 'E4.G4.E5', 'C4.G4.E5', 'C4.E4.C5', 'F2.F4.A4', 'E4.C4', 'E3.B3.E4.G#4', 'B3.G#4', 'E4.G#4.B4', 'A4.C5', 'E4.A4', 'A2.G4.C#5', 'G4.E5', 'C#4.A2', 'E4.C#3', 'D5.F4', 'E4.C3', 'F4.D5', 'D4.B2', 'C4.A2', 'F4.F5', 'B3.G#2', 'A3.A2', 'G#3.B2', 'B3.G#2', 'E4.C5', 'C3.E4.A4', 'D3.F4.B4', 'E4.B3.E3', 'A2.C4.E4.A4', 'C3.G4.C5.E-5', 'C5.F#4.G#3', 'G3.B4.D5.G4', 'E-3.G4.C5', 'D4.G4.B4', 'G4.B4.D5', 'F3.G4.B4.D5', 'E-3.G4.C5.E-5', 'F3.G#4.C5', 'E3.G#4.B-4.D5', 'E-3.G4.B-4.E-5', 'G3.G4.B-4.E-5', 'B-3.F4.B-4.D5', 'B3.G#4.D5.F5', 'C4.G4.C5.E-5', 'F3.B4.D5', 'E-3.G4.C5', 'F3.F4.G#4.C5', 'F#3.E-4.G#4.C5', 'G3.D4.G4.B4', 'C3.E-4.G4.C5', 'E-3.G4.C5', 'F3.F4.G#4.C5', 'D3.F4.G#4.D5', 'G3.E-4.G4.C5', 'G3.D4.B4', 'C3.C4.E-4.C5', 'C4.G4', 'E4.C3', 'G3.C5', 'F3.A3.F4.C5', 'F2.F3.C4.A4', 'C3.E4.C5', 'G2.D4.B4', 'G3.E4.C5', 'C4.G4.E5', 'F2.A4.F5', 'C3.G4.E5', 'G2.B3.G4.D5', 'C3.G3.E4.C5', 'G3.D4.B4', 'G2.B3.G4.D5', 'C3.G3.E4.C5', 'G3.C4', 'E3.C3', 'C4.G4', 'F2.F3.A4', 'C2.E3.G4', 'D3.G4', 'B3.G2', 'G3.D4', 'C3.C4.E4', 'G2.B3.D4', 'C3.G3.E4', 'F2.A3.F4', 'C4.E4.G4', 'G3.C4.E4', 'G3.B3.D4', 'B3.D4.G4', 'C3.G3.C4.E4', 'C4.E-4.G4.C5', 'G3.G4.B4.D5', 'G4.C5.E-5', 'C5.E-5.G5', 'F3.G#4.C5.F5', 'C4.C5.E-5', 'G3.B4.D5', 'C3.G4.E-5', 'F3.G#4.F5', 'C3.C5.E-5.G5', 'F3.G#4.C5.F5', 'C4.C5.E-5', 'G3.B4.D5', 'C3.E-4.G4.C5', 'C3.E-4.G4.C5', 'G3.B4.D5', 'C3.C5.E-5', 'G4.D5', 'B4.G3', 'D4.G5', 'G4.D5', 'C3.G4.E-5', 'F3.G#4.F5', 'C3.G4.E-5', 'G3.G4.B4.D5', 'C4.E-4.C5', 'G3.D4.B4', 'E-4.C5', 'C4.E-5', 'G3.E-4.C5', 'G#3.F4.C5', 'G#4.F5', 'C3.G4.E-5', 'F3.G#4.F5', 'C3.E-5', 'G3.B3.D5', 'C5.E-4.C4.C3', 'C3.E4.G4', 'F3.F4.A4', 'C4.E4.G4', 'E4.G4.C5', 'C4.A4', 'F4.F3', 'A3.C5', 'C3.C4.E5', 'C4.E4.C5', 'G3.B4.D5', 'C3.C5.E5', 'G4.D5', 'B4.G3', 'D4.G5', 'C3.C4.G4.E5', 'G3.B3.G4.D5', 'C3.C4.E4.C5', 'C3.C4.E-5', 'G3.B3.D5', 'E-4.C5', 'C3.G4.E-5', 'B3.D5', 'G4.G3', 'D4.B4', 'G4.E-4.C3', 'G#4.F4.F3', 'C3.E-4.G4.C5', 'C4.G4.C5.E-5', 'G#4.C5.F5', 'F4.G#4.C5', 'C3.C5.E-5', 'G3.B4.D5', 'C3.E-4.G4.C5', 'C3.E4.C5', 'G3.D4.B4', 'C3.E4.G4.C5', 'F3.C4.F4.A4', 'D4.G4', 'B3.G3', 'G4.D5', 'E4.C5', 'C4.C3', 'G4.E5', 'F3.C4.A4.F5', 'G3.B3.G4.D5', 'C3.G4.E5', 'F3.A4.F5', 'C3.C4.E5', 'G3.B3.D5', 'C3.C4.E4.C5', 'C3.E4.G4', 'F3.F4.A4', 'G3.B3.D4.G4', 'C3.G3.C4.E4', 'F3.A3.C4.F4', 'C3.C4.E4.G4', 'F3.C4.F4.A4', 'G3.B3.D4.G4', 'C4.G4', 'E4.C3', 'G3.C5', 'F3.A3.F4.C5', 'C3.C4.G4.E5', 'F3.C4.A4.F5', 'G3.B3.G4.D5', 'C3.G3.E4.C5', 'C3.E-4.G4.C5', 'F3.C4.F4.G#4', 'C3.E-4.G4.C5', 'B4.D4', 'C3.E-4.C5', 'F4.G#4.C5', 'G#4.C5.F5', 'G2.G4.B4.D5', 'C3.G4.E-5', 'F2.F4.G#5', 'F3.C4.G#4.F5', 'B3.G4.D5', 'D4.B4.G5', 'C3.C4.G4.E-5', 'F3.G#3.F4.C5', 'C3.C4.E-5', 'G3.B3.D5', 'E-4.G3.C3', 'F4.G#3.F3', 'G3.D4.B4', 'C5.E-4.G3.C3', 'E-4.C5', 'G4.C3', 'C4.E-5', 'B2.D4.D5', 'C3.C4.E-5', 'F3.G#3.C5', 'G#3.C4.F5', 'C4.E-5', 'B3.D4.D5', 'G4.C4', 'E-3.C5', 'G3.B4', 'G4.D4', 'B2.G5', 'C3.C4.E-5', 'G3.B3.D5', 'C3.C4.E-4.C5', 'C3.C5.E5', 'E3.G4.C5', 'G3.B4', 'G4.D4', 'B2.D5', 'C3.G4.E5', 'F3.A4.F5', 'C3.E4.G5', 'C4.G4.E5', 'A3.F5', 'C5.F4', 'F3.A5', 'E3.G4.G5', 'F3.A4.F5', 'E3.C5', 'G3.B4.D5', 'C3.E4.G4.C5', 'C3.E5', 'G4.C4', 'E3.G5', 'F3.C4.A4.F5', 'B2.D4.G4.D5', 'C3.C4.E5', 'G3.B3.D5', 'C4.C5', 'E4.C3', 'F4.A3', 'G3.B4', 'G4.D4', 'B2.D5', 'C3.E4.G4.C5', 'F3.C4.F4.A4', 'E3.C4.C5', 'G3.D4.B4', 'C3.E4.G4.C5', 'C4.G4.E5', 'A3.F4.F5', 'G3.G4.B4.D5', 'E3.G4.G5', 'F3.A5', 'A3.F5', 'C4.C5.E5', 'G3.B4.D5', 'C3.C5.E5', 'F3.A4.C5.F5', 'B2.D5.G5', 'C3.C5.E5', 'G3.B4.D5', 'E3.C5', 'C3.C5.E5', 'A3.F4.C5.F5', 'G3.B4.G5', 'B3.G4.D5', 'C4.G4.E5', 'A3.C4.F4.F5', 'G3.B3.G4.D5', 'C5.E4.C4.C3', 'G4.C4', 'E-3.G5', 'C4.F5', 'G#4.F3', 'C5.G#3', 'D4.B4.G5', 'B3.G4.D5', 'C4.G4.E-5', 'A3.C4.F4.F5', 'B3.D4.D5', 'C4.E-5', 'G#3.C5', 'F4.C4', 'F3.G#4', 'B3.D4.G4', 'D4.G4.B4', 'C3.E-4.G4.C5', 'G4.C5.E5', 'G3.B4.D5', 'E3.C5.G5', 'F3.A4.C5.F5', 'G3.G4.B4.D5', 'G4.E3', 'A4.F4.F3', 'B2.D4.D5', 'C3.C4.E5', 'A2.C4.F4.F5', 'B2.D4.G4.D5', 'C3.E4.G4.C5', 'F3.C4.F4.A4', 'C3.E4.G4.C5', 'C3.E3.G4', 'A2.F3.F4', 'G2.D3.B3.G4', 'C3.E3.G3.E4', 'B2.D4', 'G2.D3.B3', 'E3.G3.C4', 'G3.C4.E4', 'A2.F4', 'F3.A4', 'B2.D4.G4', 'C3.C4.E4', 'F2.A3.C4.F4', 'G2.G3.B3.D4', 'C3.E3.G3.C4', 'C4.E5', 'C5.G4', 'E3.G5', 'F3.F4.A5', 'G3.E4.G5', 'A3.F4.F5', 'C4.G4.E5', 'G4.D5', 'B4.G3', 'E4.C5', 'D4.B4.D5', 'C4.G4.E5', 'A3.F4.F5', 'C5.E5', 'G4.G3', 'B4.D5', 'C4.E4.G4.C5', 'C3.E4.C5', 'D3.D4.B4', 'E3.C4.G4.C5', 'F3.C4.F4.A4', 'C3.E4.G4', 'E3.G4.C5', 'G3.D4.G4.B4', 'B2.D4.D5', 'C3.C4.E5', 'A2.C4.F4.F5', 'B2.D4.G4.D5', 'C3.C4.E5', 'G2.B3.D5', 'C3.C4.E4.C5', 'C4.E-4.C5', 'B3.D4.D5', 'C4.E-5', 'B3.D4.D5', 'C4.E-5', 'G#3.C4.F4.F5', 'C4.E-5', 'G3.B3.D5', 'C4.E-5', 'F5.G#4.C4.F3', 'F3.G#5', 'C5.F4', 'G#3.F5', 'G3.D4.B4.G5', 'C4.G4.E-5', 'F3.G#4.F5', 'G3.G4.E-5', 'G#3.F4.F5', 'G4.G3', 'B3.D5', 'C5.E-4.C4.C3', 'C3.G3.E4.C5', 'F3.C4.A4', 'G3.G4', 'C4.E3', 'B3.D3', 'G3.C4.E4', 'E3.G3.C4', 'G2.G3.B3.D4', 'G2.B3.D4.G4', 'C3.G3.C4.E4', 'F2.F3.A4', 'E2.G3.G4', 'F2.A3.C4.F4', 'G2.G3.B3.D4', 'C3.E3.G3.C4', 'C4.E-4.C5', 'B3.D4.D5', 'C4.E-4.C5', 'D4.G4.B4', 'B4.D5', 'C4.C5.E-5', 'G#3.F4.C5.F5', 'G3.D4.B4.G5', 'G#5.C5.F4.F3', 'F3.F4.G#5', 'G3.E-4.G5', 'G#3.F4.F5', 'C4.E-5', 'G#4.F4.F3', 'E-4.C5', 'G4.G3', 'D4.B4', 'C5.G4.E-4.C3', 'G3.C4.E4', 'C4.E4.G4', 'A2.C4.F4.C5', 'C3.G3.E4.C5', 'B2.G3.D4.G4', 'C3.G3.C4.E4', 'A2.F3.F4', 'G2.E3.G4', 'F2.F3.C4.A4', 'G2.D3.B3.G4', 'C3.E3.G4', 'A2.F3.C5', 'E4.C5', 'G3.G2', 'D4.B4', 'C3.G3.E4.C5', 'C3.G3.C4.E4', 'G3.B3.D4.G4', 'E3.G3.C4.C5', 'F3.A3.F4.C5', 'E3.C4.G4', 'C3.G3.C4.E4', 'F3.A3.F4', 'E3.G3.G4', 'F3.C4.A4', 'B2.D3.D4.G4', 'E3.C4.G4', 'G3.E4.C5', 'A2.C4.F4.C5', 'G2.D4.G4.B4', 'C3.E4.G4.C5', 'E4.C5', 'C4.E5', 'B3.D4.G5', 'C4.E4.C5', 'A3.C4.F4.F5', 'B3.D4.G4.D5', 'C4.G4.E5', 'G3.G4.B4.D5', 'C3.E4.G4.C5', 'A2.C4.F4.F5', 'C3.E5', 'G4.C4', 'E3.C5', 'E4.C5', 'G4.G3', 'D4.B4', 'C3.E4.G4.C5', 'C3.C4.E5', 'G3.D4.B4', 'E3.G3.G4.C5', 'C3.E3.C4.G4', 'F3.A4', 'C3.G3.E4', 'A2.F4', 'C4.F3', 'F2.A4', 'E3.C4.G4', 'C4.G4.E5', 'F3.C4.F4.A4', 'A3.C4.F4.F5', 'G3.C4.G4.E5', 'G3.D4.G4.B4', 'C3.E4.G4.C5', 'C4.E4.C5', 'B3.D4.G5', 'C4.E5', 'G3.D4.B4', 'E3.C4.C5', 'D3.B3.D5', 'C3.C4.E5', 'C4.E4.C5', 'G4.B4.D5', 'B4.D5.G5', 'C4.G4.E5', 'F3.F4.A5', 'E4.C5.G5', 'D4.B4.G5', 'C3.C4.G4.E5', 'C3.G4.E-5', 'F3.G#4.F5', 'E-3.G4.G5', 'B2.D4.G5', 'C3.E-5', 'G#3.C5.F5', 'E-3.C4.C5.G5', 'G3.D4.B4.G5', 'C3.C4.G4.E-5', 'F3.C4.G#4.F5', 'G3.B3.G4.D5', 'B2.D4.G4.G5', 'E-4.C5.G5', 'G4.E-5', 'F3.G#4.F5', 'C3.C4.E-5', 'D3.B3.D5', 'E-3.C4.C5', 'G#3.F4.F5', 'G4.G3', 'D4.B4', 'C5.G4.E-4.C3', 'C3.E-4.G4.C5', 'F3.C4.F4.G#4', 'E-3.G4', 'G#3.F4.C5', 'G3.B4', 'G4.D4', 'B2.D5', 'C3.C4.E-5', 'D3.B3.D5', 'G4.C4.E-3', 'B2.D4.G5', 'C3.C4.E-5', 'G#2.C4.F4.F5', 'G2.B3.G4.D5', 'C3.G3.E-4.C5', 'C3.E4.G4.C5', 'F3.F4.A4.C5', 'D3.F4.B4.D5', 'C3.G4.C5.E5', 'B2.D5.G5', 'C3.C5.E5', 'F3.C5.A5', 'D3.B4.F5', 'C3.E5', 'C5.G4', 'E3.G5', 'A3.F4', 'F3.A4.F5', 'G3.C5.E5', 'G2.B4.D5', 'C3.E4.G4.C5', 'C3.E4.G4', 'F3.F4.A4', 'D3.D4.F4.B4', 'E3.C4.G4.C5', 'D3.A3.F4.D5', 'G3.D4.B4', 'E3.G3.C5', 'D3.B3.D5', 'C3.G4.E5', 'A2.F4.F5', 'C3.C4.G4.E5', 'F3.A3.F4.D5', 'E4.C5', 'G2.D4.B4', 'C3.G3.E4.C5', 'C3.E-4.G4', 'F3.F4.G#4', 'D4.B2', 'E-4.C4.C3', 'G#2.C4.F4.C5', 'G2.D4.G4.B4', 'G#2.C4.E-4.C5', 'F2.C4.G#4.F5', 'G2.B3.G4.D5', 'C4.E-5', 'G4.C3', 'G#4.G#2', 'G#4.D4.F2', 'G4.B3.G2', 'C3.G3.E-4.C5', 'C4.G4.E5', 'F3.F4.A5', 'D4.B4.G5', 'G4.D5.B5', 'C3.C6', 'E5.G4', 'E3.B5', 'F3.F4.A5', 'C4.E4.G5', 'F4.C5.A5', 'C5.F5.A5', 'C3.C5.E5.G5', 'F3.A4.D5.F5', 'C5.E5', 'G4.G3', 'B4.D5', 'C3.E4.G4.C5', 'C3.C5.E-5', 'G3.B4.D5', 'G#3.E-4', 'F3.G#4.F5', 'G3.B4.D5', 'C4.C5.E-5', 'D5.B-4.B-3', 'C5.F4.G#3', 'G3.B4.G5', 'B3.G4.D5', 'C4.G4.E-5', 'F3.D4.G#4.D5', 'E-4.C5', 'G4.G3', 'D4.B4', 'C3.E-4.G4.C5', 'G3.C4.E-4', 'C4.E-4.G4', 'F2.G#3.F4.C5', 'C2.G3.E-4.C5', 'E-2.G3.E-4.B-4', 'F2.F3.C4.G#4', 'G2.D3.B3.G4', 'G#2.C3.F4', 'G2.E-3.G4', 'F2.G#4', 'C4.F3', 'G#2.F4', 'E-3.C4.G4', 'G3.D4.B4', 'C2.G3.E-4.C5', 'G3.B3.G4', 'E3.C4.G4.C5', 'F3.C4.F4.A4', 'G3.B3.D4.G4', 'E3.C4.G4', 'F3.C4.F4.A4', 'D3.D4.F4.B4', 'C3.E4.G4.C5', 'F3.C4.F4.A4', 'C3.E4.G4.C5', 'E3.E4.G4.B4', 'F3.C4.F4.A4', 'C4.E4.G4', 'A3.C4.E4.A4', 'F3.A3.D4.D5', 'G3.D4.B4', 'G3.B3.D4.G4', 'F3.C4.F4.A4', 'E3.C4.G4.C5', 'G3.D4.G4.B4', 'C4.E4.G4.C5', 'A3.C4.F4.C5', 'C4.A4.F5', 'C4.G4.E5', 'A3.C4.A4.E5', 'F5.A4.D4.D3', 'D5.G4.B3.G3', 'C3.C4.E4.C5', 'C4.E-4.G4.C5', 'G3.G4.B4.D5', 'C3.G4.C5.E-5', 'C3.E-4.G4.C5', 'E-3.E-4.G4.B-4', 'F3.C4.F4.G#4', 'G3.B3.D4.G4', 'E-3.G3.C4.C5', 'G3.B3.G4.D5', 'C3.C4.G4.E-5', 'G#3.C4.G#4.E-5', 'F3.D4.G#4.D5', 'G3.B3.G4.D5', 'G#3.C4.E-4.C5', 'F3.G#3.F4.C5', 'C4.G4.E-5', 'B-3.D4.B-4.F5', 'G#3.C4.F4.F5', 'G3.B3.G4.D5', 'C4.G4.E-5', 'G#3.C4.C5.F5', 'G3.D4.B4.G5', 'G3.D4.B4.G5', 'E-3.C4.G4', 'E-3.C4.F4.A4', 'D3.D4.F4.B4', 'C3.E-4.G4.C5', 'F3.D4.G#4.D5', 'G3.D4.G4.B4', 'C3.E-4.G4.C5', 'E4.G4.C5', 'G4.C5.E5', 'B3.D5.G5', 'C4.C5.E5', 'A3.F4.C5.F5', 'B3.D4.D5.G5', 'G4.C5.E5', 'E4.G4.C5', 'B3.D5.G5', 'G3.B4.G5', 'A3.F4.C5.F5', 'B3.D4.D5.G5', 'C4.G4.C5.E5', 'C3.G4.C5.E5', 'G3.G4.B4.D5', 'A3.C4.F4.F5', 'B3.D4.G4.D5', 'C4.G4.E5', 'A3.C4.A4.E5', 'F3.D4.A4.D5', 'G3.D4.B4.D5', 'A3.F4.A4.C5', 'A3.F4.A4.C5', 'E3.G4.C5', 'G3.G4.B4.D5', 'C4.G4.C5.E5', 'A3.A4.C5.E5', 'F3.A4.D5.F5', 'G3.G4.B4.D5', 'C4.E4.G4.C5', 'C3.C4.E-4.G4', 'B-2.D4.F4.B-4', 'G#2.C4.F4', 'G2.B3.D4.G4', 'C3.C4.E-4', 'G#2.C4.F4', 'G2.B3.D4.G4', 'G3.B3.D4.G4', 'G#3.C4.F4', 'G3.C4.E-4.G4', 'F3.C4.F4.G#4', 'E-3.C4.G4', 'F3.G#3.C4.F4', 'D3.F3.B3.F4', 'C3.G3.C4.E-4', 'E-3.G3.G4.C5', 'E-3.C4.F4.A4', 'D3.D4.F4.B4', 'C3.E-4.G4.C5', 'E-3.E-4.G4.B-4', 'F3.C4.F4.G#4', 'F2.C4.F4.G#4', 'G2.B3.D4.G4', 'G2.B3.D4.G4', 'A2.C4.F4', 'B2.G3.D4.G4', 'C3.G3.C4.E-4', 'F2.G#3.D4.F4', 'G2.G3.C4.E-4', 'G2.G3.B3.D4', 'C3.E-3.G3.C4', 'C3.E4.C5.G3', 'G3.F4.B4', 'C3.G3.E4.C5', 'E3.C4.G4.G5', 'F3.C4.G#4.F5', 'G3.B3.G4.F5', 'C3.G4.E5', 'G#2.F4.F5', 'G4.B3.G2', 'B4.F4.G3', 'E4.C3', 'F4.C4.G#3', 'C4.G4.E5', 'B3.D5', 'C3.C4.E4.C5', 'C3.E4.G4.C5', 'G#3.C4.F4.F5', 'G3.B3.F5', 'C3.C4.E5', 'B2.D4.D5', 'C3.E4.C5', 'F3.G#4.C5', 'G3.G4.B4', 'E4.G4.C5', 'G4.C5.E5', 'G#2.F5', 'C5.F4', 'F2.G#5', 'E4.C5.G5', 'F4.G4.B4', 'C3.E4.G4.C5', 'C3.E4.C5', 'F3.D4.B4', 'E3.C4.C5', 'F3.C4.G#4', 'D3.B3.G4', 'C3.C4.E4.C5', 'G#3.F4.C5', 'D4.B4', 'E3.G4.C5', 'B3.D3', 'D4.B2', 'C3.C4.E5', 'G#2.C4.F4.F5', 'G2.B3.D5', 'B2.D4.F5', 'C3.C4.E5.G4', 'E3.G4.C5', 'F3.F4.G#4.D5', 'G3.E4.C5', 'B4.D4.G2', 'C3.C4.E4.C5', 'C4.E5.C5', 'E3.C5', 'G#3.F4.C5.F5', 'G4.B4.D5', 'E3.C5.G5', 'D3.B4.F5', 'C3.E5', 'C5.G4', 'E3.G5', 'G4.F5', 'D5.B2', 'B4.D3', 'C3.G4.C5.E5', 'F3.F4.G#4.D5', 'E4.G4.C5', 'D4.F4.B4', 'C3.C4.E4.C5', 'C3.C4.E4.G4', 'F4.G#4', 'C4.F3', 'D4.B2', 'C3.E4.G4', 'G#2.C4.F4.C5', 'G2.D4.B4', 'E3.C4.C5', 'F4.C5', 'G#3.F3', 'D4.B4', 'E3.G3.C5', 'F3.G#4', 'D3.F3.B3.G#4', 'E3.G3.C4.G4', 'F3.G#3.C4.F4', 'G3.B3.D4', 'C3.E3.C4', 'G4.E4.C3', 'G4.E3', 'F3.C5', 'G#4.F4', 'B2.D5', 'C3.E4.E5', 'E3.C4.G5', 'B3.D5', 'G4.G3', 'D4.B4', 'G#4.C5', 'F4.F3', 'C5.G#5', 'B4.F4.D3', 'C5.E4.C3', 'G#3.F5', 'F4.D4', 'G3.B4', 'C3.C4.E4.C5', 'C3.G4.E-5', 'F3.D5', 'G4.B3', 'E-3.C4.G5', 'D3.B3.F5', 'C3.C4.E-5', 'G#4.C4.F3', 'B3.G3', 'F3.D4.B4', 'E-3.C4.C5', 'D3.B3.D5', 'C3.C4.E-5', 'F3.C4.G#4.F5', 'G3.B3.D5', 'E-3.C4.G5', 'D3.F4.B4', 'C3.E-4.C5', 'G#3.C4.F4.F5', 'G#4.C4.F3', 'B3.G3', 'C3.C4.E-4.C5', 'G4.E-4.C4', 'G#4.G#3', 'F3.G#4.D5', 'E-3.C4.G4.C5', 'C3.G4.C5.E-5', 'B4.G4.G3', 'C4.C5.E-5', 'B3.D5.G5', 'C4.E-4.G5', 'F3.D4.G#5', 'E-4.C5.G5', 'F4.G4.B4', 'C3.E-4.G4.C5', 'C4.E-4.G4.C5', 'G#3.G#4.E-5', 'F3.G#4.D5', 'G4.C4.E-3', 'D3.D4.B4.F5', 'C3.E-4.E-5', 'F4.G#3', 'B4.G4.G3', 'C5.G4.E-3', 'F4.G#5', 'C5.F3', 'G#4.D5', 'C3.G4.C5.E-5', 'C3.C4.E4.G4', 'F3.C4.F4.A4', 'F3.B3.D4.G4', 'E3.G3.C4.C5', 'F3.A3.A4.C5', 'F3.B3.A4.D5', 'C3.C4.G4.E5', 'E5.A4.C4.A3', 'F3.C4.A4.D5', 'D5.G4.B3.F3', 'E3.C4.G4.G5', 'F5.A4.C4.F3', 'D3.B3.G4.F5', 'E5.G4.C4.C3', 'D5.G4.B3.G3', 'F3.C4.A4.F5', 'B2.D4.G4.F5', 'C3.C4.G4.E5', 'A3.C4.F4.F5', 'F3.C4.A4', 'G3.B3', 'A3.C4.E4.C5', 'F3.A3.A4.D5', 'B4.G4.D4.G3', 'F3.D4.G4.B4', 'C5.G4.C4.E3', 'F3.C4.A4.D5', 'E5.G4.C4.G3', 'G3.B3.D5', 'C5.E4.C4.C3', 'C5.G4.E4.C4', 'B3.G4.D5.G5', 'E5.C5.G4.C4', 'C4.A4.D5.F5', 'F5.D5.G4.B3', 'C4.G4.C5.E5', 'E5.C5.G4.C3', 'G3.G4.B4.D5', 'F3.G4.B4.D5', 'E3.G4.C5.G5', 'D5.G4.B2', 'C3.G4.C5.E5', 'E3.G4.C5.E5', 'F3.A4.C5.D5', 'G4.B4.D5', 'E3.G4.C5', 'E3.G4.C5', 'C5.A4.F4.F3', 'F3.F4.A4.D5', 'B4.G4.D4.F3', 'E3.C4.G4.C5', 'A4.F4.D4.D3', 'C3.E4.G4.C5', 'B4.G4.D4.G3', 'G3.B3.F4.G4', 'C3.C4.E4.G4', 'F3.C4.F4.A4', 'F3.D4.G4.B4', 'E3.C4.G4.C5', 'F3.A3.A4.D5', 'F3.B3.A4.D5', 'C3.C4.G4.E5', 'E5.G4.C4.C3', 'D3.B3.G4.F5', 'E5.G4.C4.E3', 'A4.A3.F3', 'B3.G3', 'A3.C4.E4.C5', 'C5.E4.C4.A3', 'F3.C4.F4.A4', 'E3.C4.G4', 'D3.F4.G4.B4', 'C3.E4.G4.C5', 'F3.D4.A4.C5', 'G3.D4.B4', 'C5.E4.C4.C3', 'C3.G3.E-4', 'F2.G#3.F4', 'E-4.C4.C3', 'F3.F4.G#4', 'C3.E-4.G4', 'F3.G#3.C4.F4', 'D4.B3.G3', 'C3.G3.C4.E-4', 'G2.B3.D4.G4', 'C4.E-4.G4', 'E-4.G4.C5', 'F2.C4.F4.G#4', 'B3.D4.G4', 'G3.B3.D4', 'C4.G3.E-3.C3', 'E-3.G4', 'C4.C3', 'G3.E-4', 'F2.G#3.C4.F4', 'G3.B3.D4', 'D3.B3', 'C2.E-3.C4', 'F3.G#3.C4', 'G#3.C4.F4', 'C4.F4.G#4', 'G4.D4.B3.G2', 'B3.D4.G4', 'G3.B3.D4', 'C3.G3.C4.E-4', 'G#3.C4.F4', 'C4.F4.G#4', 'G#3.F4.C5', 'G3.B4', 'B3.G4', 'G3.D4.B4', 'C5.E-4.G3.C2', 'C3.E-4.G4', 'F4.F3', 'G#3.C5', 'C3.C4.E-5', 'B3.D5', 'D4.B4', 'C3.E-4.G4.C5', 'F4.G#4', 'C4.F3', 'G#4.F5', 'C3.C4.E-5', 'G3.B3.D5', 'C4.E-5', 'E-4.C5', 'E-4.C5.G5', 'F3.F4.G#5', 'C3.E-4.G5', 'F3.C4.G#4.F5', 'B3.G4.D5', 'B4.G5', 'G4.B4', 'C5.G4.E-4.C3', 'C3.E-4.G4', 'F3.F4.G#4', 'G3.D4.G4.B4', 'G4.E-4.C4', 'G#4.F4.F3', 'G4.C3', 'C4.E-5', 'F3.C4.G#4.F5', 'E-4.C5.G5', 'C4.G4.E-5', 'D5.G4.B3.G3', 'F3.G#4.F5', 'C3.G4.E-5', 'F2.G#4.F5', 'G2.B3.D5', 'C3.E-5', 'G#4.F5', 'F4.C5.G#5', 'E-4.G5', 'C5.C3', 'G2.B4.D5', 'C5.G4.E-4.C3', 'C4.G4', 'E4.C3', 'G2.D4.B4', 'C3.C4.E4', 'F3.A4', 'C4.F2', 'A3.F4', 'G2.B3.D4', 'C3.C4.E4', 'F3.A3.C4.F4', 'C3.C4.E4.G4', 'C4.A4', 'F4.F3', 'A3.C5', 'D4.B4', 'B3.G4.D5', 'C3.C4.E5', 'G3.D4.B4', 'E4.G4.C5', 'E4.C5.G5', 'F3.F4.A5', 'C4.G4.E5', 'A4.F5', 'F4.A5', 'C3.E4.C5.G5', 'G3.G4.B4.D5', 'C5.G4.E4.C4', 'E4.G4', 'C4.C3', 'D4.B4', 'G4.B4.D5', 'C3.E4.G4.C5', 'F3.F4.A4', 'E4.G4', 'E4.G4.C5', 'A4.C5', 'F4.F3', 'C4.E4.G5', 'F3.C4.A4.F5', 'C3.C4.E5', 'G3.B3.D5', 'F3.A4.F5', 'C3.E5', 'G3.B4.D5', 'C4.E4.G4.C5', 'A4.C5', 'F4.F3', 'C3.G4.E5', 'F3.A4.F5', 'C5.G5', 'E5.C3', 'G4.C6', 'F3.A4.F5.C6', 'G3.G4.D5.B5', 'C6.E5.G4.C3', 'E4.G4', 'C4.C3', 'G4.E5', 'B3.D5', 'G4.G3', 'D4.B4', 'C3.E4.G4.C5', 'F3.C4.F4.A4', 'C4.E4.G4', 'G3.C4.E4', 'F3.A3.C4.F4', 'C3.C4.E4.G4', 'C4.F4.A4', 'F4.A4.C5', 'E4.C5', 'G4.G3', 'D4.B4', 'C3.E4.G4.C5', 'G3.G4.B4.D5', 'G4.E5', 'C5.C3', 'E4.G5', 'F3.F4.A5', 'C3.G4.E5', 'A4.C5.F5', 'F4.A4.C5', 'G3.C4.G4.E5', 'G2.B3.G4.D5', 'C5.E4.C4.C3', 'G2.B3.D4.G4', 'G3.C4.E-4', 'E-3.G3.C4', 'G2.G3.B3.D4', 'C3.G3.C4.E-4', 'F3.G#4', 'C4.F2', 'G#3.F4', 'C3.C4.E-4.G4', 'F2.C4.F4.G#4', 'G2.B3.D4.G4', 'D5.G4.B3.G2', 'C3.G3.E-4.C5', 'E-4.C5', 'G3.G2', 'B4.D4', 'E-4.G3.C3', 'G2.B3.G4.D5', 'C3.C4.G4.E-5', 'G3.D4.B4', 'E-4.C5', 'E-4.C5.G5', 'C5.G#5', 'F4.F3', 'G#4.C5', 'F2.C4.G#4.F5', 'G4.C4', 'E-4.C5', 'D4.B4', 'C5.E-4.G3.C3', 'G2.G3.B3.D4', 'C3.G3.E-4', 'C3.E-3.G4', 'F2.F3.G#4', 'C3.E-3.G4', 'F2.G#3.F4', 'B3.D4', 'G3.G2', 'C3.C4.E-4', 'G2.C4.E-4.G3', 'D4.B3.G2', 'F2.F4.G#4.C5', 'G2.D4.B4', 'C3.C4.E-5', 'G3.B3.G4.D5', 'C3.G3.E-4.C5', 'F3.G#3.F4.C5', 'E-4.C5', 'G2.D4.B4', 'C5.E-4.G3.C3', 'C3.E5.C5', 'E3.C5', 'G3.B4.D5', 'C4.G4.E5', 'A3.F5', 'F3.A5', 'D4.G5', 'B4.G3', 'C3.C5.E5', 'D5.B4.G4.G3', 'A3.F4.C5.F5', 'G3.B4.D5', 'C4.C5.E5', 'A4.F5', 'F4.A5', 'C3.E4.G5', 'E5.C5', 'G4.G3', 'B4.D5', 'C5.G4.E4.C4', 'C3.E3.G3.C4', 'E2.G3.C4.G4', 'F2.A3.C4.F4', 'C3.G3.C4.E4', 'A2.F3.C4.F4', 'G2.G3.B3.D4', 'C4.G3.E3.C3', 'E2.G3.C4.C5', 'F2.F3.C4.A4', 'E2.G3.C4.G4', 'F2.A3.C4.F4', 'C2.G3.C4.E4', 'C4.E4', 'G3.G2', 'D4.B3', 'C3.C4.E4', 'G2.D4.B4', 'E2.C5', 'C4.G3', 'C2.E4', 'F2.F3.C4.A4', 'E2.G3.C4.G4', 'F2.A3.C4.F4', 'A2.C4.F4.F5', 'C4.G4.E5', 'B4.G4.D4', 'C5.G4.E4.C3', 'C3.G3.E4', 'A2.F3.F4', 'G2.D3.B3.G4', 'C3.E3.C4.G4', 'C2.E3.G3.C4', 'F2.A3', 'A2.F4', 'C3.G3.E4', 'C3.E4', 'G3.G2', 'D4.B2', 'C3.E4', 'G2.D3.B3', 'E2.G3.C4', 'A3.C4', 'A2.F4', 'G4.C4.E3', 'D3.G3.B3', 'C4.G3.E3.C2', 'C3.C4.E5', 'G3.D4.B4', 'C4.E3', 'F3.A4.F5', 'A3.F4.C5', 'G3.B4', 'G4.D4', 'B2.D5', 'C3.E4.G4.C5', 'F3.F4.A4', 'E3.G4.C5', 'C3.G4.C5.E5', 'G4.E5', 'G4.D5', 'G4.C5.E5', 'C5.E5.G5', 'F3.C5.A5.F5', 'A3.C5.F5', 'B4.G5', 'D5.G3', 'G4.B5', 'G4.C6.C5', 'G4.C5', 'F4.A4.F3', 'F4.A3', 'B4.G4.D4.G3', 'C5.G4.E4.C3', 'C3.E4.G4', 'E2.G4.C5', 'A4.F4', 'C3.E4.G4', 'F3.A3.F4', 'C3.G3.E4', 'D4.G3.B2', 'E4.C4.G3.C3', 'C3.E4.G4', 'E2.G4.C5', 'A4.F2', 'F4.C4', 'A2.F5', 'C4.C3', 'D4.B4', 'B3.D5', 'C5.E4.G3.C3', 'E-4.G4', 'C4.C3', 'G3.D4.B4', 'C4.E-3', 'F4.C4', 'G#3.C5', 'E-4.C5', 'G4.G3', 'B4.D4', 'E-3.C4.G4.C5', 'C3.G4.E-5', 'F3.G#4.F5', 'E-3.G4.G5', 'F4.G#5', 'C4.G#4.F5', 'E-5.C4.G3', 'G2.D4.B4', 'C5.G4.E-4.C3', 'G4.C5.E5', 'F4.D5.F5', 'E4.C5.G5', 'G3.G5', 'B4.D4', 'C5.E4', 'B2.G4.D5', 'C3.C5.E5', 'D3.B4.D5', 'E3.G4.C5', 'E4.C5', 'G4.G3', 'D4.B4', 'G3.G4.B4.D5', 'C3.C5.E5', 'D3.B4.D5', 'E3.G4.C5', 'F3.F4.A5', 'G3.E4.G5', 'A3.F4.F5', 'C4.G4.C5.E5', 'G3.D4.B4.G5', 'B3.D4.G4.D5', 'E4.G4', 'C5.C4', 'C4.C5', 'F4.A4', 'E4.G4', 'E-4.G4', 'B3.D4.D5', 'C4.E-4.C5', 'G#3.F4.F5', 'G3.G4.E-5', 'F3.G#4.F5', 'E-3.C4.G5', 'B2.D4.D5', 'C3.E-5', 'E-3.C5', 'F3.F4.G#4', 'G3.G4', 'E-4.C4', 'D4.B3', 'F3.G#4', 'F4.C4', 'G#3.F5', 'G4.B3.G3', 'E-3.C4.G4.C5', 'D3.D4.B4.G5', 'C3.E-4.C5.G5', 'F3.F4.G#5', 'G3.E-4.G5', 'G#3.F4.F5', 'C5.E-5', 'G4.G3', 'B4.D5', 'E-4.C4', 'F4.G#3', 'G#4.C4.F3', 'C3.E-4.G4', 'C2.C3.E4', 'D2.B2.D4', 'E2.C3.C4', 'F2.A3', 'F3.C3', 'A2.F4', 'B3.F3.D3.G2', 'C3.E3.C4', 'G2.B2.D3.D4', 'B2.D3.G3', 'G3.E4', 'A2.F4', 'G2.E3.G4', 'F2.A4', 'C4.F3', 'A2.F4', 'E4.C4', 'G3.G2', 'C4.G3.E2', 'G2.F3.B3.D4', 'C4.E3.C3', 'C4.F3', 'C4.E3', 'D3.F4', 'F3.D4', 'C4.G3.E3.C3', 'E-3.G3', 'G#2.F3.C4', 'G2.B3.G3', 'B2.G3', 'E-4.C3', 'B2.D3.D4', 'C3.E-3.C4', 'G#2.F3.C4.F4', 'G2.D3.B3.F4', 'G#2.F4', 'F2.F3.G#4', 'C4.E-3', 'F3.D4', 'E-3.E-4', 'C4.C3', 'G#3.F4', 'D4.B2', 'E-4.C3', 'G#3.F4.C5', 'F3.C4.G#4', 'G2.E-3.G4', 'G#2.F3.F4', 'B3.G3.G2', 'C3.G3.E-4', 'F2.F3.G#4', 'E-3.C4.G4', 'F3.G3.B3', 'C3.E-3.G3.C4', 'G4.E5', 'A4.F5', 'E4.G5', 'G4.E5', 'B4.D5', 'C5.E5', 'B4.D5', 'D4.G4.B4', 'C5.G4', 'F3.A4', 'E4.C4', 'D4.B3', 'D4.G4.B4', 'E3.C5', 'D3.B4.D5', 'C3.E5', 'C5.G4', 'E3.G5', 'F3.A4.F5', 'E3.G4.G5', 'F3.A5', 'A3.F5', 'G4.E5.C5', 'E4.C5', 'F4.B4.D5', 'C5.G4.E4.C4', 'E4.C5', 'C4.E5', 'C4.A4', 'G2.D4.B4', 'E4.C5', 'C4.C2', 'F4.A4', 'E4.G4', 'E2.G3.C4.G4', 'A2.F3.C5', 'G2.G3.E4', 'A3.F4', 'F3.A4', 'G4.C4', 'G3.B3.D4', 'G3.C4.E4', 'F3.A3.F4', 'E3.C4.G4', 'G3.E4.C5', 'B2.D5', 'D3.B4', 'C3.E4.C5', 'A2.C4.F4.F5', 'C4.E5', 'E4.C5', 'D4.G4', 'B3.D5', 'G3.E4.C5', 'A3.F4.C5', 'G3.E4.C5', 'C3.E-4.G5', 'D3.F4.F5', 'E-3.G4.C5.E-5', 'F3.F4.G#4.D5', 'D4.G4.B4', 'E-3.C4.G4.C5', 'C5.G4', 'C4.E-3', 'F3.D4.F4.G#4', 'G3.C4.E-4.G4', 'G#3.C4.F4', 'G3.B3.D4.G4', 'F3.B3.D4.G4', 'E-3.C4.G4.C5', 'D3.B3.G4.D5', 'C3.E-5', 'G4.C4', 'E-3.G5', 'C4.G#4.F5.F3', 'F3.F4.C5.G#5', 'G#4.C5.D5', 'C5.G3', 'E-4.G5', 'G2.D4.B4.G5', 'E-4.C5', 'G4.C3', 'C4.E5', 'E3.C4.G4.G5', 'D3.B3.F5', 'E3.C4.E5', 'F3.D4.F4.D5', 'A4.F4.D4.D3', 'G3.D4.G4.B4', 'E3.C4.C5', 'D3.B3.D5', 'C3.C4.G4.E5', 'A3.F5', 'A4.C4', 'F3.A5', 'C4.E5', 'G4.G3', 'B3.D5', 'G3.G4.B4.F5', 'C4.G4.C5.E5', 'E3.G4.C5.G5', 'A3.F4.A5', 'G3.G4.B5', 'F3.A4.C5.C6', 'E3.G4.C5.G5', 'F4.A5', 'C5.F3', 'A4.D5', 'G4.C5.E5', 'E4.C5.G5', 'B4.G5', 'D4.G3', 'G4.B4', 'G4.E4.C4', 'C4.A3', 'A3.F3', 'E4.G3.C3', 'G2.B3.D4.G4', 'C4.E4.G4', 'E4.G4.C5', 'F4.C4.F3', 'G4.E4.C4', 'A3.C4.F4', 'E4.C4', 'E3.C4', 'F3.G3.B3.D4', 'E3.G3.C4.E4', 'D3.F4', 'D4.A3', 'F3.A4', 'E4.C4', 'D4.B3', 'E3.C4.C5', 'D3.B3.D5', 'C3.E5', 'G4.C4', 'E3.C5', 'F5.F4.G#3', 'G3.G4.E5', 'G#4.F5', 'C4.F3', 'F4.G#4', 'G4.C4', 'C3.E5', 'G4.D5', 'B3.G3', 'F4.G4', 'C5.E4', 'G3.C3', 'C4.E4', 'C4.F4', 'G#3.F3', 'D4.G#4', 'C5.E4.G3.C3', 'C3.C4.E5', 'D3.B3.D5', 'E3.C4.C5', 'A3.D5', 'F4.F3', 'D4.A4', 'F3.D4.B4', 'E3.C4.C5', 'D3.B3.D5', 'C5.G4', 'C4.E3', 'F3.F4.G#4', 'G3.E4.G4', 'F3.G#3.D5', 'G3.E4.C5', 'G2.G3.D4.B4', 'B3.D5', 'G4.F3', 'C4.C5', 'D4.B4', 'G4.C5.C4', 'C4.G4', 'G#3.D4.F4', 'G3.G4', 'F3.G#4', 'C3.G3.E4.G4', 'F3.G#3.D4', 'E3.G3.C4.G4', 'D3.G3.B3.F4', 'C3.G3.C4.E4', 'G#2.C5', 'C4.F3', 'F2.G#4', 'G2.E3.C4.G4', 'G2.F3.G3.B3', 'C3.E3.G3.C4', 'C3.C4.E4', 'D3.B3.D4', 'E3.C4', 'A4.C4.F3', 'D3.A3.F4.A4', 'D3.F4.B4', 'C3.E4.C5', 'B2.G3.D4.D5', 'C3.E4.C5', 'E2.C4.G4', 'F2.F3.C4.G#4', 'G2.E3.C4.G4', 'G#2.F3.C4.F4', 'F2.G#3.D4.F4', 'E4.C4', 'G3.G2', 'G2.G3', 'B3.D4', 'B2.F3.D4', 'C3.E3.C4', 'D3.F3.G3.B3', 'E3.G3.C4', 'G3.E4.C4', 'E2.C4.G4', 'G#2.F4', 'G2.E4.G4', 'F2.C4.F4.G#4', 'B3.D4.G4', 'D4.G4.B4', 'F2.B3.G4.D5', 'G4.C4.E2', 'D2.D4.G#4.F5', 'C2.E4.G4.E5', 'G#2.F4.D5', 'F2.D4.G#4.C5', 'G2.E4.G4.C5', 'G2.D4.F4.B4', 'C2.C4.E4.C5']\n",
            "[array([['0', '11', '11', ..., '0', '11', '0'],\n",
            "       ['C3.E4.G4.C5', 'E3.E4.G4.B4', 'G3.D4.G4.B4', ..., 'G2.E4.G4.C5',\n",
            "        'G2.D4.F4.B4', 'C2.C4.E4.C5']], dtype='<U21')]\n",
            "[['0' '11' '11' ... '0' '11' '0']\n",
            " ['C3.E4.G4.C5' 'E3.E4.G4.B4' 'G3.D4.G4.B4' ... 'G2.E4.G4.C5'\n",
            "  'G2.D4.F4.B4' 'C2.C4.E4.C5']]\n"
          ],
          "name": "stdout"
        }
      ]
    },
    {
      "cell_type": "markdown",
      "metadata": {
        "id": "WctiLfIBxa8l"
      },
      "source": [
        "# **Reading notes**"
      ]
    },
    {
      "cell_type": "code",
      "metadata": {
        "id": "9VOcFYuABBCT"
      },
      "source": [
        "#@title  { form-width: \"1px\" }\n",
        "\n",
        "#Returns the array of notes and chords present in the musical file.\n",
        "def read_midi_notes(file):\n",
        "\n",
        "    print(\"Loading the music file: \",file)\n",
        "\n",
        "    chordes = []\n",
        "    notes=[]\n",
        "    notes_to_parse = None\n",
        "    #parsing a midi file\n",
        "    midi = converter.parse(file)\n",
        "  \n",
        "    #grouping based on different instruments\n",
        "    s2 = instrument.partitionByInstrument(midi)\n",
        "    #Looping over all the instruments\n",
        "    for part in s2.parts:\n",
        "    \n",
        "        #select elements of only piano\n",
        "        #if 'Piano' in str(part): \n",
        "        \n",
        "            notes_to_parse = part.recurse() \n",
        "      \n",
        "            #finding whether a particular element is note or a chord\n",
        "            for element in notes_to_parse:\n",
        "                \n",
        "                # #note\n",
        "                 if isinstance(element, note.Note):\n",
        "                     notes.append(mingus_note.note_to_int(str(element.pitch)[0]))\n",
        "    \n",
        "    return  notes\n",
        "#np.array(chordes)"
      ],
      "execution_count": null,
      "outputs": []
    },
    {
      "cell_type": "code",
      "metadata": {
        "colab": {
          "base_uri": "https://localhost:8080/"
        },
        "id": "dJU3NnYwxeMq",
        "outputId": "abb2c8f5-a6ab-4ede-db6a-95d17da4b5e3"
      },
      "source": [
        "path_for_notes ='/bin/Armenian_anthem_notes/'\n",
        "notes_file = [i for i in os.listdir(path_for_notes) if i.endswith(\".mid\")]\n",
        "notes_notes_array = [read_midi_notes(path_for_notes+i) for i in notes_file]"
      ],
      "execution_count": null,
      "outputs": [
        {
          "output_type": "stream",
          "text": [
            "Loading the music file:  /bin/Armenian_anthem_notes/ՀԽՍՀ_հիմն_վերջնական.mid\n"
          ],
          "name": "stdout"
        }
      ]
    },
    {
      "cell_type": "markdown",
      "metadata": {
        "id": "1APtYplrBOSy"
      },
      "source": [
        "# **Notes to int**"
      ]
    },
    {
      "cell_type": "code",
      "metadata": {
        "id": "aKm5vgce364G"
      },
      "source": [
        "#@title  { form-width: \"1px\" }\n",
        "\n",
        "import math\n",
        "def convertToNumber (s):\n",
        "    return int.from_bytes(s.encode(), 'little')\n",
        "\n",
        "def convertFromNumber (n):\n",
        "    return n.to_bytes(math.ceil(n.bit_length() / 8), 'little').decode()"
      ],
      "execution_count": null,
      "outputs": []
    },
    {
      "cell_type": "markdown",
      "metadata": {
        "id": "MYTNfjS6BT4B"
      },
      "source": [
        "# **Prepearing data for classification**"
      ]
    },
    {
      "cell_type": "code",
      "metadata": {
        "id": "yHvV2kdpq3fK"
      },
      "source": [
        "#@title  { form-width: \"1px\" }\n",
        "\n",
        "for i in melody_notes_array:\n",
        "  feature = i[0]\n",
        "  label = i[1]\n",
        "\n",
        "y = label\n",
        "X = []\n",
        "\n",
        "X_test_int = []\n",
        "#puting each note in features into a list\n",
        "for i in feature:\n",
        "  X.append(int(i))\n",
        "  X_test_int.append([int(i)])\n",
        "# y = []\n",
        "# for i in label:\n",
        "#   y.append(convertToNumber(i))\n",
        "\n",
        "X = np.eye(12,dtype=np.int)[X]\n"
      ],
      "execution_count": null,
      "outputs": []
    },
    {
      "cell_type": "markdown",
      "metadata": {
        "id": "GUkep7nKCwvG"
      },
      "source": [
        "# **Prepearing data for prediction**"
      ]
    },
    {
      "cell_type": "code",
      "metadata": {
        "id": "mgUJavNYLTyZ"
      },
      "source": [
        "def arr_to_eye(array):\n",
        "  result_list = []\n",
        "  for i in array:\n",
        "    arr = np.zeros(12,dtype=int)\n",
        "    arr[i] = 1\n",
        "    result_list.append(arr)\n",
        "  return np.array(result_list)"
      ],
      "execution_count": null,
      "outputs": []
    },
    {
      "cell_type": "code",
      "metadata": {
        "colab": {
          "base_uri": "https://localhost:8080/"
        },
        "id": "Eh1pJVCaC5mR",
        "outputId": "be749e5f-f11a-47d1-e125-97ff956e3249"
      },
      "source": [
        "#@title  { form-width: \"1px\" }\n",
        "\n",
        "X_test_eye_vector = arr_to_eye(notes_notes_array[0])\n",
        "print(X_test_eye_vector)\n"
      ],
      "execution_count": null,
      "outputs": [
        {
          "output_type": "stream",
          "text": [
            "[[1 0 0 ... 0 0 0]\n",
            " [0 0 0 ... 0 0 1]\n",
            " [0 0 0 ... 0 0 0]\n",
            " ...\n",
            " [0 0 0 ... 0 0 0]\n",
            " [0 0 1 ... 0 0 0]\n",
            " [1 0 0 ... 0 0 0]]\n"
          ],
          "name": "stdout"
        }
      ]
    },
    {
      "cell_type": "code",
      "metadata": {
        "id": "utAu-Wbw0Zdk",
        "colab": {
          "base_uri": "https://localhost:8080/"
        },
        "outputId": "bc4f8a08-d05d-416b-9596-283e4a30c26e"
      },
      "source": [
        "# X_y = list(zip(X, y))\n",
        "# X, y = map(list, zip(*X_y))\n",
        "\n",
        "print(X)\n",
        "print(len(y))"
      ],
      "execution_count": null,
      "outputs": [
        {
          "output_type": "stream",
          "text": [
            "[[1 0 0 ... 0 0 0]\n",
            " [0 0 0 ... 0 0 1]\n",
            " [0 0 0 ... 0 0 1]\n",
            " ...\n",
            " [1 0 0 ... 0 0 0]\n",
            " [0 0 0 ... 0 0 1]\n",
            " [1 0 0 ... 0 0 0]]\n",
            "3371\n"
          ],
          "name": "stdout"
        }
      ]
    },
    {
      "cell_type": "markdown",
      "metadata": {
        "id": "_xpMkjWKBeCr"
      },
      "source": [
        "# **Logistic Regression**"
      ]
    },
    {
      "cell_type": "code",
      "metadata": {
        "id": "OJX0FPaQvN6C",
        "colab": {
          "base_uri": "https://localhost:8080/"
        },
        "outputId": "3a837534-11c1-4af1-f788-f200a540d4a5"
      },
      "source": [
        "from sklearn.linear_model import LogisticRegression\n",
        "X_train, X_test, y_train, y_test = train_test_split(\n",
        "    X, y, test_size=0.2)\n",
        "clf = LogisticRegression(random_state=0,max_iter = 50000, fit_intercept=False).fit(X_train, y_train)\n",
        "print(clf.score(X_test, y_test))\n",
        "predicted = clf.predict(X_test)\n",
        "#print(predicted)\n",
        "\n",
        "X_anthem_predicted = clf.predict(X_test_eye_vector)\n",
        "print(y)"
      ],
      "execution_count": null,
      "outputs": [
        {
          "output_type": "stream",
          "text": [
            "0.12\n",
            "['C3.E4.G4.C5' 'E3.E4.G4.B4' 'G3.D4.G4.B4' ... 'G2.E4.G4.C5' 'G2.D4.F4.B4'\n",
            " 'C2.C4.E4.C5']\n"
          ],
          "name": "stdout"
        }
      ]
    },
    {
      "cell_type": "code",
      "metadata": {
        "id": "18JZUs_6S26Z"
      },
      "source": [
        "print(X_anthem_predicted)"
      ],
      "execution_count": null,
      "outputs": []
    },
    {
      "cell_type": "code",
      "metadata": {
        "id": "WI7ldxMY_mMa",
        "colab": {
          "base_uri": "https://localhost:8080/"
        },
        "outputId": "4d9739e3-09f2-416e-d33b-c9bce9315079"
      },
      "source": [
        "convert_to_midi(X_anthem_predicted, \"Logistic_Regression_predicted_anthem\")"
      ],
      "execution_count": null,
      "outputs": [
        {
          "output_type": "execute_result",
          "data": {
            "text/plain": [
              "<music21.stream.Stream 0x7f54d2e03050>"
            ]
          },
          "metadata": {
            "tags": []
          },
          "execution_count": 13
        }
      ]
    },
    {
      "cell_type": "markdown",
      "metadata": {
        "id": "negNzyP8BmPr"
      },
      "source": [
        "# **Decision Tree**"
      ]
    },
    {
      "cell_type": "code",
      "metadata": {
        "id": "LsZkMzJw9Oa6",
        "colab": {
          "base_uri": "https://localhost:8080/"
        },
        "outputId": "79e7696d-761d-4625-e703-e565199bc1aa"
      },
      "source": [
        "#@title  { form-width: \"1px\" }\n",
        "\n",
        "from sklearn.tree import DecisionTreeClassifier\n",
        "tree = DecisionTreeClassifier(random_state=0)\n",
        "tree.fit(X_train, y_train)\n",
        "print(tree.score(X_test, y_test))\n",
        "\n",
        "predicted = tree.predict(X_test)\n",
        "#convert_to_midi(predicted)"
      ],
      "execution_count": null,
      "outputs": [
        {
          "output_type": "stream",
          "text": [
            "0.11407407407407408\n"
          ],
          "name": "stdout"
        }
      ]
    },
    {
      "cell_type": "markdown",
      "metadata": {
        "id": "J8mY6tQyBAkp"
      },
      "source": [
        "# **Comparing all classifications**"
      ]
    },
    {
      "cell_type": "code",
      "metadata": {
        "id": "R_0W153s-PuO",
        "colab": {
          "base_uri": "https://localhost:8080/",
          "height": 569
        },
        "outputId": "a38c257e-e167-4d1e-893d-486a58370f88"
      },
      "source": [
        "#@title  { form-width: \"1px\" }\n",
        "\n",
        "# Compare Algorithms\n",
        "import pandas\n",
        "import matplotlib.pyplot as plt\n",
        "from sklearn import model_selection\n",
        "from sklearn.linear_model import LogisticRegression\n",
        "from sklearn.tree import DecisionTreeClassifier\n",
        "from sklearn.neighbors import KNeighborsClassifier\n",
        "from sklearn.discriminant_analysis import LinearDiscriminantAnalysis\n",
        "from sklearn.naive_bayes import GaussianNB\n",
        "from sklearn.svm import SVC\n",
        "# load dataset\n",
        "\n",
        "# prepare configuration for cross validation test harness\n",
        "seed = 7\n",
        "# prepare models\n",
        "models = []\n",
        "models.append(('LR', LogisticRegression()))\n",
        "models.append(('KNN', KNeighborsClassifier()))\n",
        "models.append(('CART', DecisionTreeClassifier()))\n",
        "models.append(('NB', GaussianNB()))\n",
        "models.append(('SVM', SVC()))\n",
        "# evaluate each model in turn\n",
        "results = []\n",
        "names = []\n",
        "scoring = 'accuracy'\n",
        "for name, model in models:\n",
        "\tkfold = model_selection.KFold(n_splits=10, random_state=seed)\n",
        "\tcv_results = model_selection.cross_val_score(model, X_train, y_train, cv=kfold, scoring=scoring)\n",
        "\tresults.append(cv_results)\n",
        "\tnames.append(name)\n",
        "\tmsg = \"%s: %f (%f)\" % (name, cv_results.mean(), cv_results.std())\n",
        "\tprint(msg)\n",
        "# boxplot algorithm comparison\n",
        "fig = plt.figure()\n",
        "fig.suptitle('Algorithm Comparison')\n",
        "ax = fig.add_subplot(111)\n",
        "plt.boxplot(results)\n",
        "ax.set_xticklabels(names)\n",
        "plt.show()"
      ],
      "execution_count": null,
      "outputs": [
        {
          "output_type": "stream",
          "text": [
            "/usr/local/lib/python3.7/dist-packages/sklearn/model_selection/_split.py:296: FutureWarning: Setting a random_state has no effect since shuffle is False. This will raise an error in 0.24. You should leave random_state to its default (None), or set shuffle=True.\n",
            "  FutureWarning\n"
          ],
          "name": "stderr"
        },
        {
          "output_type": "stream",
          "text": [
            "LR: 0.104228 (0.015162)\n"
          ],
          "name": "stdout"
        },
        {
          "output_type": "stream",
          "text": [
            "/usr/local/lib/python3.7/dist-packages/sklearn/model_selection/_split.py:296: FutureWarning: Setting a random_state has no effect since shuffle is False. This will raise an error in 0.24. You should leave random_state to its default (None), or set shuffle=True.\n",
            "  FutureWarning\n"
          ],
          "name": "stderr"
        },
        {
          "output_type": "stream",
          "text": [
            "KNN: 0.047873 (0.021019)\n",
            "CART: 0.105715 (0.013114)\n"
          ],
          "name": "stdout"
        },
        {
          "output_type": "stream",
          "text": [
            "/usr/local/lib/python3.7/dist-packages/sklearn/model_selection/_split.py:296: FutureWarning: Setting a random_state has no effect since shuffle is False. This will raise an error in 0.24. You should leave random_state to its default (None), or set shuffle=True.\n",
            "  FutureWarning\n",
            "/usr/local/lib/python3.7/dist-packages/sklearn/model_selection/_split.py:296: FutureWarning: Setting a random_state has no effect since shuffle is False. This will raise an error in 0.24. You should leave random_state to its default (None), or set shuffle=True.\n",
            "  FutureWarning\n"
          ],
          "name": "stderr"
        },
        {
          "output_type": "stream",
          "text": [
            "NB: 0.105715 (0.013114)\n"
          ],
          "name": "stdout"
        },
        {
          "output_type": "stream",
          "text": [
            "/usr/local/lib/python3.7/dist-packages/sklearn/model_selection/_split.py:296: FutureWarning: Setting a random_state has no effect since shuffle is False. This will raise an error in 0.24. You should leave random_state to its default (None), or set shuffle=True.\n",
            "  FutureWarning\n"
          ],
          "name": "stderr"
        },
        {
          "output_type": "stream",
          "text": [
            "SVM: 0.105711 (0.015496)\n"
          ],
          "name": "stdout"
        },
        {
          "output_type": "display_data",
          "data": {
            "image/png": "[encoded data removed]",
            "text/plain": [
              "<Figure size 432x288 with 1 Axes>"
            ]
          },
          "metadata": {
            "tags": [],
            "image/png": {
              "width": 378,
              "height": 277
            },
            "needs_background": "light"
          }
        }
      ]
    },
    {
      "cell_type": "markdown",
      "metadata": {
        "id": "UwOEW8RCiTzA"
      },
      "source": [
        "# Removing single chords and double chords"
      ]
    },
    {
      "cell_type": "code",
      "metadata": {
        "id": "tqYM_vr_iYrW"
      },
      "source": [
        "#@title  { form-width: \"1px\" }\n",
        "\n",
        "def remove_double_single_chordes(chordes):\n",
        "  new_list = chordes.copy()\n",
        "  for i in new_list:\n",
        "    if i.count('.') == 1:\n",
        "      chordes.remove(i)\n",
        "    elif len(i) <= 2:\n",
        "      chordes.remove(i)\n",
        "  return chordes\n",
        "\n"
      ],
      "execution_count": null,
      "outputs": []
    },
    {
      "cell_type": "markdown",
      "metadata": {
        "id": "si2rhhIwBupp"
      },
      "source": [
        "# **Setting up Neural Network**"
      ]
    },
    {
      "cell_type": "code",
      "metadata": {
        "id": "t5AU14m1M2pN"
      },
      "source": [
        "import torch\n",
        "import torch.nn as nn \n",
        "import matplotlib.pyplot as plt \n",
        "import tensorflow as tf\n",
        "\n",
        "\n",
        "class RNN(nn.Module):\n",
        "    # implement RNN from scratch rather than using nn.RNN\n",
        "    def __init__(self, input_size, hidden_size, output_size):\n",
        "        super(RNN, self).__init__()\n",
        "        \n",
        "        self.hidden_size = hidden_size\n",
        "        self.i2h = nn.Linear(input_size + hidden_size, hidden_size)\n",
        "        self.i2o = nn.Linear(input_size + hidden_size, output_size)\n",
        "        self.softmax = nn.LogSoftmax(dim=1)\n",
        "        \n",
        "    def forward(self, input_tensor, hidden_tensor):\n",
        "        # print(input_tensor.shape)\n",
        "        # print(hidden_tensor.shape)\n",
        "\n",
        "        combined = torch.cat((input_tensor, hidden_tensor), 1)\n",
        "        \n",
        "        hidden = self.i2h(combined)\n",
        "        output = self.i2o(combined)\n",
        "        output = self.softmax(output)\n",
        "        return output, hidden\n",
        "    \n",
        "    def init_hidden(self):\n",
        "        return torch.zeros(1, self.hidden_size)\n",
        "    \n"
      ],
      "execution_count": null,
      "outputs": []
    },
    {
      "cell_type": "code",
      "metadata": {
        "id": "7jmIqc4uvr9S",
        "colab": {
          "base_uri": "https://localhost:8080/",
          "height": 842
        },
        "outputId": "ef1a71fb-76fb-42f3-9907-e30be73a944f"
      },
      "source": [
        "chords_set = set(y_train)\n",
        "chords_set = list(chords_set)\n",
        "y_unique = []\n",
        "\n",
        "for i in y_train:\n",
        "  #print(chords_set.index(i))\n",
        "  y_unique.append(torch.tensor(chords_set.index(i)))  \n",
        "   \n",
        "\n",
        "y_unique = torch.stack(y_unique)\n",
        "print(np.array(y_unique))\n",
        "\n",
        "def count_elements(seq) -> dict:\n",
        "    \"\"\"Tally elements from `seq`.\"\"\"\n",
        "    hist = {}\n",
        "    for i in seq:\n",
        "        hist[i] = hist.get(i, 0) + 1\n",
        "    return hist\n",
        "\n",
        "import matplotlib.pyplot as plt\n",
        "h = count_elements(np.array(y_unique))\n",
        "\n",
        "\n",
        "plt.figure(figsize=(15, 14))\n",
        "plt.xticks(np.arange(0, len(h)+1, 30))\n",
        "plt.yticks(np.arange(0, 80, 10))\n",
        "plt.bar(h.keys(), h.values(), 14, color='g')"
      ],
      "execution_count": null,
      "outputs": [
        {
          "output_type": "stream",
          "text": [
            "[618 607 631 ...  43 712 697]\n"
          ],
          "name": "stdout"
        },
        {
          "output_type": "execute_result",
          "data": {
            "text/plain": [
              "<BarContainer object of 872 artists>"
            ]
          },
          "metadata": {
            "tags": []
          },
          "execution_count": 20
        },
        {
          "output_type": "display_data",
          "data": {
            "image/png": "[encoded data removed]",
            "text/plain": [
              "<Figure size 1080x1008 with 1 Axes>"
            ]
          },
          "metadata": {
            "tags": [],
            "image/png": {
              "width": 871,
              "height": 791
            },
            "needs_background": "light"
          }
        }
      ]
    },
    {
      "cell_type": "markdown",
      "metadata": {
        "id": "bQOPMUru9Z48"
      },
      "source": [
        "Getting the names for the chords"
      ]
    },
    {
      "cell_type": "code",
      "metadata": {
        "id": "2YKcdADWPHrV"
      },
      "source": [
        "category_lines = dict(zip(y,X))\n",
        "all_categories = y_unique\n",
        "n_categories = len(chords_set)"
      ],
      "execution_count": null,
      "outputs": []
    },
    {
      "cell_type": "code",
      "metadata": {
        "id": "rhDPVRrWRP5n",
        "colab": {
          "base_uri": "https://localhost:8080/"
        },
        "outputId": "a6428443-c587-4a7b-b979-cf4250f71444"
      },
      "source": [
        "n_hidden = 256\n",
        "rnn = RNN(len(X_train[0]), n_hidden, n_categories)\n",
        "\n",
        "x = torch.tensor(X_train)\n",
        "\n",
        "# one step\n",
        "input_tensor = x[0]\n",
        "hidden_tensor = rnn.init_hidden()\n",
        "\n",
        "\n",
        "output, next_hidden = rnn(input_tensor[None], hidden_tensor)\n",
        "print(output.size())\n",
        "print(next_hidden.size())\n",
        "\n",
        "# whole sequence/name\n",
        "input_tensor = x\n",
        "hidden_tensor = rnn.init_hidden()"
      ],
      "execution_count": null,
      "outputs": [
        {
          "output_type": "stream",
          "text": [
            "torch.Size([1, 872])\n",
            "torch.Size([1, 256])\n"
          ],
          "name": "stdout"
        }
      ]
    },
    {
      "cell_type": "code",
      "metadata": {
        "id": "7tkLIgdaRVOH",
        "colab": {
          "base_uri": "https://localhost:8080/"
        },
        "outputId": "641e560a-f7eb-44e2-a112-f50049603823"
      },
      "source": [
        "def category_from_output(output):\n",
        "    category_idx = torch.argmax(output).item()\n",
        "    return chords_set[category_idx]\n",
        "\n",
        "print(category_from_output(output))\n",
        "\n",
        "#Negative Log Liklihood Loss\n",
        "criterion = nn.NLLLoss()\n",
        "learning_rate = 0.00000000000000005\n",
        "optimizer = torch.optim.SGD(rnn.parameters(), lr=learning_rate)\n",
        "\n",
        "\n",
        "\n",
        "def train(line_tensor, category_tensor):\n",
        "    hidden = rnn.init_hidden()\n",
        "    loss_list = []\n",
        "    for i in range(line_tensor.size()[0]):\n",
        "        output, hidden = rnn(line_tensor[i][None], hidden)\n",
        "        \n",
        "        loss = criterion(output, category_tensor[i][None])\n",
        "        loss_list.append(loss)\n",
        "\n",
        "    optimizer.zero_grad()\n",
        "    loss = sum(loss_list)\n",
        "    loss.backward()\n",
        "    optimizer.step()\n",
        "    \n",
        "    return output, loss.item()\n"
      ],
      "execution_count": null,
      "outputs": [
        {
          "output_type": "stream",
          "text": [
            "E3.G4.B4.E5\n"
          ],
          "name": "stdout"
        }
      ]
    },
    {
      "cell_type": "code",
      "metadata": {
        "id": "Nq-jGR0-fHuJ",
        "colab": {
          "base_uri": "https://localhost:8080/",
          "height": 391
        },
        "outputId": "cc132381-1143-4e82-cd95-11f46bfde96d"
      },
      "source": [
        "current_loss = 0\n",
        "all_losses = []\n",
        "plot_steps, print_steps = 1000, 5000\n",
        "n_iters = 5000\n",
        "\n",
        "line_tensor = torch.tensor(X_train)\n",
        "category_tensor = y_unique\n",
        "outer = tqdm.tqdm(total=n_iters, desc='Epoch', position=0)\n",
        "for i in range(n_iters):\n",
        "    #category, line, category_tensor, line_tensor = random_training_example(category_lines, all_categories)\n",
        "\n",
        "    output, loss = train(line_tensor, category_tensor)\n",
        "    current_loss += loss \n",
        "    outer.update(1)\n",
        "    if (i+1) % plot_steps == 0:\n",
        "        all_losses.append(current_loss / plot_steps)\n",
        "        current_loss = 0\n",
        "        \n",
        "    if (i+1) % print_steps == 0:\n",
        "        guess = category_from_output(output)\n",
        "        #correct = \"CORRECT\" if guess == category else f\"WRONG ({category})\"\n",
        "      #  print(f\"{i+1} {(i+1)/n_iters*100} {loss:.4f} {line} / {guess} {correct}\")\n",
        "        \n",
        "    \n",
        "plt.figure()\n",
        "plt.plot(all_losses)\n",
        "plt.show()\n",
        "\n",
        "def predict(input_line):\n",
        "    print(f\"\\n> {input_line}\")\n",
        "    with torch.no_grad():\n",
        "        line_tensor = input_line\n",
        "        guess_list = []\n",
        "        hidden = rnn.init_hidden()\n",
        "    \n",
        "        for i in range(line_tensor.size()[0]):\n",
        "            output, hidden = rnn(line_tensor[i][None], hidden)\n",
        "            guess = category_from_output(output)\n",
        "            guess_list.append(guess)\n",
        "        return guess_list\n",
        "    "
      ],
      "execution_count": null,
      "outputs": [
        {
          "output_type": "stream",
          "text": [
            "Epoch:   0%|          | 2/5000 [00:04<3:21:51,  2.42s/it]"
          ],
          "name": "stderr"
        },
        {
          "output_type": "error",
          "ename": "KeyboardInterrupt",
          "evalue": "ignored",
          "traceback": [
            "\u001b[0;31m---------------------------------------------------------------------------\u001b[0m",
            "\u001b[0;31mKeyboardInterrupt\u001b[0m                         Traceback (most recent call last)",
            "\u001b[0;32m<ipython-input-24-45117e64f4a5>\u001b[0m in \u001b[0;36m<module>\u001b[0;34m()\u001b[0m\n\u001b[1;32m     10\u001b[0m     \u001b[0;31m#category, line, category_tensor, line_tensor = random_training_example(category_lines, all_categories)\u001b[0m\u001b[0;34m\u001b[0m\u001b[0;34m\u001b[0m\u001b[0;34m\u001b[0m\u001b[0m\n\u001b[1;32m     11\u001b[0m \u001b[0;34m\u001b[0m\u001b[0m\n\u001b[0;32m---> 12\u001b[0;31m     \u001b[0moutput\u001b[0m\u001b[0;34m,\u001b[0m \u001b[0mloss\u001b[0m \u001b[0;34m=\u001b[0m \u001b[0mtrain\u001b[0m\u001b[0;34m(\u001b[0m\u001b[0mline_tensor\u001b[0m\u001b[0;34m,\u001b[0m \u001b[0mcategory_tensor\u001b[0m\u001b[0;34m)\u001b[0m\u001b[0;34m\u001b[0m\u001b[0;34m\u001b[0m\u001b[0m\n\u001b[0m\u001b[1;32m     13\u001b[0m     \u001b[0mcurrent_loss\u001b[0m \u001b[0;34m+=\u001b[0m \u001b[0mloss\u001b[0m\u001b[0;34m\u001b[0m\u001b[0;34m\u001b[0m\u001b[0m\n\u001b[1;32m     14\u001b[0m     \u001b[0mouter\u001b[0m\u001b[0;34m.\u001b[0m\u001b[0mupdate\u001b[0m\u001b[0;34m(\u001b[0m\u001b[0;36m1\u001b[0m\u001b[0;34m)\u001b[0m\u001b[0;34m\u001b[0m\u001b[0;34m\u001b[0m\u001b[0m\n",
            "\u001b[0;32m<ipython-input-23-8118cd7d2f64>\u001b[0m in \u001b[0;36mtrain\u001b[0;34m(line_tensor, category_tensor)\u001b[0m\n\u001b[1;32m     23\u001b[0m     \u001b[0moptimizer\u001b[0m\u001b[0;34m.\u001b[0m\u001b[0mzero_grad\u001b[0m\u001b[0;34m(\u001b[0m\u001b[0;34m)\u001b[0m\u001b[0;34m\u001b[0m\u001b[0;34m\u001b[0m\u001b[0m\n\u001b[1;32m     24\u001b[0m     \u001b[0mloss\u001b[0m \u001b[0;34m=\u001b[0m \u001b[0msum\u001b[0m\u001b[0;34m(\u001b[0m\u001b[0mloss_list\u001b[0m\u001b[0;34m)\u001b[0m\u001b[0;34m\u001b[0m\u001b[0;34m\u001b[0m\u001b[0m\n\u001b[0;32m---> 25\u001b[0;31m     \u001b[0mloss\u001b[0m\u001b[0;34m.\u001b[0m\u001b[0mbackward\u001b[0m\u001b[0;34m(\u001b[0m\u001b[0;34m)\u001b[0m\u001b[0;34m\u001b[0m\u001b[0;34m\u001b[0m\u001b[0m\n\u001b[0m\u001b[1;32m     26\u001b[0m     \u001b[0moptimizer\u001b[0m\u001b[0;34m.\u001b[0m\u001b[0mstep\u001b[0m\u001b[0;34m(\u001b[0m\u001b[0;34m)\u001b[0m\u001b[0;34m\u001b[0m\u001b[0;34m\u001b[0m\u001b[0m\n\u001b[1;32m     27\u001b[0m \u001b[0;34m\u001b[0m\u001b[0m\n",
            "\u001b[0;32m/usr/local/lib/python3.7/dist-packages/torch/tensor.py\u001b[0m in \u001b[0;36mbackward\u001b[0;34m(self, gradient, retain_graph, create_graph, inputs)\u001b[0m\n\u001b[1;32m    243\u001b[0m                 \u001b[0mcreate_graph\u001b[0m\u001b[0;34m=\u001b[0m\u001b[0mcreate_graph\u001b[0m\u001b[0;34m,\u001b[0m\u001b[0;34m\u001b[0m\u001b[0;34m\u001b[0m\u001b[0m\n\u001b[1;32m    244\u001b[0m                 inputs=inputs)\n\u001b[0;32m--> 245\u001b[0;31m         \u001b[0mtorch\u001b[0m\u001b[0;34m.\u001b[0m\u001b[0mautograd\u001b[0m\u001b[0;34m.\u001b[0m\u001b[0mbackward\u001b[0m\u001b[0;34m(\u001b[0m\u001b[0mself\u001b[0m\u001b[0;34m,\u001b[0m \u001b[0mgradient\u001b[0m\u001b[0;34m,\u001b[0m \u001b[0mretain_graph\u001b[0m\u001b[0;34m,\u001b[0m \u001b[0mcreate_graph\u001b[0m\u001b[0;34m,\u001b[0m \u001b[0minputs\u001b[0m\u001b[0;34m=\u001b[0m\u001b[0minputs\u001b[0m\u001b[0;34m)\u001b[0m\u001b[0;34m\u001b[0m\u001b[0;34m\u001b[0m\u001b[0m\n\u001b[0m\u001b[1;32m    246\u001b[0m \u001b[0;34m\u001b[0m\u001b[0m\n\u001b[1;32m    247\u001b[0m     \u001b[0;32mdef\u001b[0m \u001b[0mregister_hook\u001b[0m\u001b[0;34m(\u001b[0m\u001b[0mself\u001b[0m\u001b[0;34m,\u001b[0m \u001b[0mhook\u001b[0m\u001b[0;34m)\u001b[0m\u001b[0;34m:\u001b[0m\u001b[0;34m\u001b[0m\u001b[0;34m\u001b[0m\u001b[0m\n",
            "\u001b[0;32m/usr/local/lib/python3.7/dist-packages/torch/autograd/__init__.py\u001b[0m in \u001b[0;36mbackward\u001b[0;34m(tensors, grad_tensors, retain_graph, create_graph, grad_variables, inputs)\u001b[0m\n\u001b[1;32m    145\u001b[0m     Variable._execution_engine.run_backward(\n\u001b[1;32m    146\u001b[0m         \u001b[0mtensors\u001b[0m\u001b[0;34m,\u001b[0m \u001b[0mgrad_tensors_\u001b[0m\u001b[0;34m,\u001b[0m \u001b[0mretain_graph\u001b[0m\u001b[0;34m,\u001b[0m \u001b[0mcreate_graph\u001b[0m\u001b[0;34m,\u001b[0m \u001b[0minputs\u001b[0m\u001b[0;34m,\u001b[0m\u001b[0;34m\u001b[0m\u001b[0;34m\u001b[0m\u001b[0m\n\u001b[0;32m--> 147\u001b[0;31m         allow_unreachable=True, accumulate_grad=True)  # allow_unreachable flag\n\u001b[0m\u001b[1;32m    148\u001b[0m \u001b[0;34m\u001b[0m\u001b[0m\n\u001b[1;32m    149\u001b[0m \u001b[0;34m\u001b[0m\u001b[0m\n",
            "\u001b[0;31mKeyboardInterrupt\u001b[0m: "
          ]
        }
      ]
    },
    {
      "cell_type": "code",
      "metadata": {
        "id": "e4kTcUeSgLnC"
      },
      "source": [
        "#this is for predicting chordes for Armenian national anthem\n",
        "new_melody = torch.tensor(X_test_eye_vector)\n",
        "a = predict(new_melody)"
      ],
      "execution_count": null,
      "outputs": []
    },
    {
      "cell_type": "code",
      "metadata": {
        "id": "WsXZO_Ael6EX"
      },
      "source": [
        "print(\"The accuracy for the RNN is: \")\n",
        "print(sum(y_test == predict(torch.tensor(X_test))))"
      ],
      "execution_count": null,
      "outputs": []
    },
    {
      "cell_type": "code",
      "metadata": {
        "id": "_xWWADyZK24r"
      },
      "source": [
        "convert_to_midi(a,\"RNN_anthem_predicted\")"
      ],
      "execution_count": null,
      "outputs": []
    }
  ]
}